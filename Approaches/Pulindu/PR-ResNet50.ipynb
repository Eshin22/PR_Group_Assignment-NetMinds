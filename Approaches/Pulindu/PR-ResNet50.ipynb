{
 "cells": [
  {
   "cell_type": "code",
   "execution_count": 1,
   "id": "1f64cec9",
   "metadata": {
    "_cell_guid": "b1076dfc-b9ad-4769-8c92-a6c4dae69d19",
    "_uuid": "8f2839f25d086af736a60e9eeb907d3b93b6e0e5",
    "execution": {
     "iopub.execute_input": "2025-10-31T16:10:50.840110Z",
     "iopub.status.busy": "2025-10-31T16:10:50.839908Z",
     "iopub.status.idle": "2025-10-31T16:10:52.180637Z",
     "shell.execute_reply": "2025-10-31T16:10:52.179686Z"
    },
    "papermill": {
     "duration": 1.346248,
     "end_time": "2025-10-31T16:10:52.182033",
     "exception": false,
     "start_time": "2025-10-31T16:10:50.835785",
     "status": "completed"
    },
    "tags": []
   },
   "outputs": [],
   "source": [
    "# This Python 3 environment comes with many helpful analytics libraries installed\n",
    "# It is defined by the kaggle/python Docker image: https://github.com/kaggle/docker-python\n",
    "# For example, here's several helpful packages to load\n",
    "\n",
    "import numpy as np # linear algebra\n",
    "import pandas as pd # data processing, CSV file I/O (e.g. pd.read_csv)\n",
    "\n",
    "# Input data files are available in the read-only \"../input/\" directory\n",
    "# For example, running this (by clicking run or pressing Shift+Enter) will list all files under the input directory\n",
    "\n",
    "import os\n",
    "# for dirname, _, filenames in os.walk('/kaggle/input'):\n",
    "#     for filename in filenames:\n",
    "        # print(os.path.join(dirname, filename))\n",
    "\n",
    "# You can write up to 20GB to the current directory (/kaggle/working/) that gets preserved as output when you create a version using \"Save & Run All\" \n",
    "# You can also write temporary files to /kaggle/temp/, but they won't be saved outside of the current session"
   ]
  },
  {
   "cell_type": "code",
   "execution_count": 2,
   "id": "72df33d7",
   "metadata": {
    "execution": {
     "iopub.execute_input": "2025-10-31T16:10:52.189466Z",
     "iopub.status.busy": "2025-10-31T16:10:52.188894Z",
     "iopub.status.idle": "2025-10-31T16:11:06.410509Z",
     "shell.execute_reply": "2025-10-31T16:11:06.409599Z"
    },
    "papermill": {
     "duration": 14.226526,
     "end_time": "2025-10-31T16:11:06.411735",
     "exception": false,
     "start_time": "2025-10-31T16:10:52.185209",
     "status": "completed"
    },
    "tags": []
   },
   "outputs": [
    {
     "name": "stderr",
     "output_type": "stream",
     "text": [
      "2025-10-31 16:10:53.902118: E external/local_xla/xla/stream_executor/cuda/cuda_fft.cc:477] Unable to register cuFFT factory: Attempting to register factory for plugin cuFFT when one has already been registered\n",
      "WARNING: All log messages before absl::InitializeLog() is called are written to STDERR\n",
      "E0000 00:00:1761927054.105247      19 cuda_dnn.cc:8310] Unable to register cuDNN factory: Attempting to register factory for plugin cuDNN when one has already been registered\n",
      "E0000 00:00:1761927054.163813      19 cuda_blas.cc:1418] Unable to register cuBLAS factory: Attempting to register factory for plugin cuBLAS when one has already been registered\n"
     ]
    },
    {
     "name": "stdout",
     "output_type": "stream",
     "text": [
      "✅ Memory growth enabled for GPUs\n"
     ]
    }
   ],
   "source": [
    "import tensorflow as tf\n",
    "\n",
    "# Must come before any TensorFlow GPU initialization\n",
    "gpus = tf.config.list_physical_devices('GPU')\n",
    "if gpus:\n",
    "    try:\n",
    "        for gpu in gpus:\n",
    "            tf.config.experimental.set_memory_growth(gpu, True)\n",
    "        print(\"✅ Memory growth enabled for GPUs\")\n",
    "    except RuntimeError as e:\n",
    "        print(e)"
   ]
  },
  {
   "cell_type": "code",
   "execution_count": 3,
   "id": "5825e519",
   "metadata": {
    "execution": {
     "iopub.execute_input": "2025-10-31T16:11:06.418927Z",
     "iopub.status.busy": "2025-10-31T16:11:06.418498Z",
     "iopub.status.idle": "2025-10-31T16:11:06.572478Z",
     "shell.execute_reply": "2025-10-31T16:11:06.571676Z"
    },
    "papermill": {
     "duration": 0.158944,
     "end_time": "2025-10-31T16:11:06.573838",
     "exception": false,
     "start_time": "2025-10-31T16:11:06.414894",
     "status": "completed"
    },
    "tags": []
   },
   "outputs": [],
   "source": [
    "import pandas as pd\n",
    "import numpy as np\n",
    "import matplotlib.pyplot as plt\n",
    "from tensorflow.keras import Sequential \n",
    "from tensorflow.keras.layers import Input, Conv2D, MaxPool2D, Flatten, Dense, Dropout \n",
    "from tensorflow.keras.preprocessing.image import ImageDataGenerator\n",
    "from tensorflow.keras.callbacks import ModelCheckpoint\n",
    "from tensorflow.keras.utils import plot_model\n",
    "from tensorflow.keras.optimizers import Adam\n",
    "from sklearn.model_selection import train_test_split\n",
    "from tensorflow.keras.models import load_model\n",
    "from sklearn.metrics import accuracy_score, f1_score, confusion_matrix\n",
    "from tensorflow.keras.preprocessing.image import load_img, img_to_array"
   ]
  },
  {
   "cell_type": "code",
   "execution_count": 4,
   "id": "dc8b9d34",
   "metadata": {
    "execution": {
     "iopub.execute_input": "2025-10-31T16:11:06.580698Z",
     "iopub.status.busy": "2025-10-31T16:11:06.580002Z",
     "iopub.status.idle": "2025-10-31T16:11:06.715531Z",
     "shell.execute_reply": "2025-10-31T16:11:06.714896Z"
    },
    "papermill": {
     "duration": 0.139987,
     "end_time": "2025-10-31T16:11:06.716799",
     "exception": false,
     "start_time": "2025-10-31T16:11:06.576812",
     "status": "completed"
    },
    "tags": []
   },
   "outputs": [],
   "source": [
    "train_images_dir = r\"/kaggle/input/ai-vs-human-generated-dataset/train_data\"\n",
    "# test_images_dir = r\"/kaggle/input/ai-vs-human-generated-dataset/test_data_v2\"\n",
    "\n",
    "# Custom paths to Read the CSV files (change as per your system settings or Kaggle notebook)\n",
    "train_csv = pd.read_csv(r\"/kaggle/input/ai-vs-human-generated-dataset/train.csv\")\n",
    "# test_csv = pd.read_csv(r\"/kaggle/input/ai-vs-human-generated-dataset/test.csv\")"
   ]
  },
  {
   "cell_type": "code",
   "execution_count": 5,
   "id": "d7687b58",
   "metadata": {
    "execution": {
     "iopub.execute_input": "2025-10-31T16:11:06.723882Z",
     "iopub.status.busy": "2025-10-31T16:11:06.723305Z",
     "iopub.status.idle": "2025-10-31T16:11:06.740766Z",
     "shell.execute_reply": "2025-10-31T16:11:06.740054Z"
    },
    "papermill": {
     "duration": 0.021938,
     "end_time": "2025-10-31T16:11:06.741763",
     "exception": false,
     "start_time": "2025-10-31T16:11:06.719825",
     "status": "completed"
    },
    "tags": []
   },
   "outputs": [
    {
     "name": "stdout",
     "output_type": "stream",
     "text": [
      "                                         file_name  label\n",
      "0  train_data/a6dcb93f596a43249135678dfcfc17ea.jpg      1\n",
      "1  train_data/041be3153810433ab146bc97d5af505c.jpg      0\n",
      "2  train_data/615df26ce9494e5db2f70e57ce7a3a4f.jpg      1\n",
      "3  train_data/8542fe161d9147be8e835e50c0de39cd.jpg      0\n",
      "4  train_data/5d81fa12bc3b4cea8c94a6700a477cf2.jpg      1\n"
     ]
    }
   ],
   "source": [
    "train_csv= train_csv.drop(train_csv.columns[0], axis=1)\n",
    "print(train_csv.head())\n",
    "# print(test_csv.head())"
   ]
  },
  {
   "cell_type": "code",
   "execution_count": 6,
   "id": "492a1918",
   "metadata": {
    "execution": {
     "iopub.execute_input": "2025-10-31T16:11:06.747698Z",
     "iopub.status.busy": "2025-10-31T16:11:06.747515Z",
     "iopub.status.idle": "2025-10-31T16:11:06.778988Z",
     "shell.execute_reply": "2025-10-31T16:11:06.778316Z"
    },
    "papermill": {
     "duration": 0.035694,
     "end_time": "2025-10-31T16:11:06.780148",
     "exception": false,
     "start_time": "2025-10-31T16:11:06.744454",
     "status": "completed"
    },
    "tags": []
   },
   "outputs": [
    {
     "name": "stdout",
     "output_type": "stream",
     "text": [
      "                              file_name  label\n",
      "0  a6dcb93f596a43249135678dfcfc17ea.jpg      1\n",
      "1  041be3153810433ab146bc97d5af505c.jpg      0\n",
      "2  615df26ce9494e5db2f70e57ce7a3a4f.jpg      1\n",
      "3  8542fe161d9147be8e835e50c0de39cd.jpg      0\n",
      "4  5d81fa12bc3b4cea8c94a6700a477cf2.jpg      1\n"
     ]
    }
   ],
   "source": [
    "train_csv['file_name'] = train_csv['file_name'].str.replace('train_data/', '', regex=False)\n",
    "print(train_csv.head())"
   ]
  },
  {
   "cell_type": "code",
   "execution_count": 7,
   "id": "a2eb2c28",
   "metadata": {
    "execution": {
     "iopub.execute_input": "2025-10-31T16:11:06.786402Z",
     "iopub.status.busy": "2025-10-31T16:11:06.786157Z",
     "iopub.status.idle": "2025-10-31T16:11:06.807493Z",
     "shell.execute_reply": "2025-10-31T16:11:06.806961Z"
    },
    "papermill": {
     "duration": 0.025593,
     "end_time": "2025-10-31T16:11:06.808620",
     "exception": false,
     "start_time": "2025-10-31T16:11:06.783027",
     "status": "completed"
    },
    "tags": []
   },
   "outputs": [],
   "source": [
    "train_csv['label'] = train_csv['label'].astype(str)"
   ]
  },
  {
   "cell_type": "code",
   "execution_count": 8,
   "id": "afafe0e6",
   "metadata": {
    "execution": {
     "iopub.execute_input": "2025-10-31T16:11:06.814750Z",
     "iopub.status.busy": "2025-10-31T16:11:06.814543Z",
     "iopub.status.idle": "2025-10-31T16:11:06.817532Z",
     "shell.execute_reply": "2025-10-31T16:11:06.816952Z"
    },
    "papermill": {
     "duration": 0.007195,
     "end_time": "2025-10-31T16:11:06.818545",
     "exception": false,
     "start_time": "2025-10-31T16:11:06.811350",
     "status": "completed"
    },
    "tags": []
   },
   "outputs": [],
   "source": [
    "# test_csv['id'] = test_csv['id'].str.replace('test_data_v2/', '', regex=False)\n",
    "# print(test_csv.head())"
   ]
  },
  {
   "cell_type": "code",
   "execution_count": 9,
   "id": "aaf258b8",
   "metadata": {
    "execution": {
     "iopub.execute_input": "2025-10-31T16:11:06.824591Z",
     "iopub.status.busy": "2025-10-31T16:11:06.824415Z",
     "iopub.status.idle": "2025-10-31T16:11:06.930792Z",
     "shell.execute_reply": "2025-10-31T16:11:06.930238Z"
    },
    "papermill": {
     "duration": 0.110562,
     "end_time": "2025-10-31T16:11:06.931931",
     "exception": false,
     "start_time": "2025-10-31T16:11:06.821369",
     "status": "completed"
    },
    "tags": []
   },
   "outputs": [],
   "source": [
    "# train_data, val_data = train_test_split(train_csv, test_size=0.30, random_state=42) \n",
    "train_data, temp_data = train_test_split(train_csv, test_size=0.30, random_state=42, stratify=train_csv['label'])\n",
    "\n",
    "# Split Temp into Validation (15%) and Test (15%)\n",
    "val_data, test_data = train_test_split(temp_data, test_size=0.50, random_state=42, stratify=temp_data['label'])"
   ]
  },
  {
   "cell_type": "code",
   "execution_count": 10,
   "id": "9ddca87e",
   "metadata": {
    "execution": {
     "iopub.execute_input": "2025-10-31T16:11:06.938259Z",
     "iopub.status.busy": "2025-10-31T16:11:06.937882Z",
     "iopub.status.idle": "2025-10-31T16:14:02.221444Z",
     "shell.execute_reply": "2025-10-31T16:14:02.220662Z"
    },
    "papermill": {
     "duration": 175.288013,
     "end_time": "2025-10-31T16:14:02.222718",
     "exception": false,
     "start_time": "2025-10-31T16:11:06.934705",
     "status": "completed"
    },
    "tags": []
   },
   "outputs": [
    {
     "name": "stdout",
     "output_type": "stream",
     "text": [
      "Found 55965 validated image filenames belonging to 2 classes.\n",
      "Found 11992 validated image filenames belonging to 2 classes.\n",
      "Found 11993 validated image filenames.\n"
     ]
    }
   ],
   "source": [
    "IMG_SIZE = (224, 224)  # Resizing all the images\n",
    "BATCH_SIZE = 32\n",
    "\n",
    "# Data augmentation for training\n",
    "\n",
    "train_datagen = ImageDataGenerator(\n",
    "    rescale=1.0/255,\n",
    "    rotation_range=20,\n",
    "    width_shift_range=0.2,\n",
    "    height_shift_range=0.2,\n",
    "    shear_range=0.2,\n",
    "    zoom_range=(0.8,1.0),\n",
    "    horizontal_flip=True\n",
    ")\n",
    "\n",
    "# Rescaling for validation and test data\n",
    "\n",
    "val_datagen = ImageDataGenerator(rescale=1.0/255)\n",
    "test_datagen = ImageDataGenerator(rescale=1.0/255)\n",
    "\n",
    "# Training generator\n",
    "\n",
    "train_generator = train_datagen.flow_from_dataframe(\n",
    "    dataframe=train_data,\n",
    "    directory=train_images_dir,\n",
    "    x_col='file_name',\n",
    "    y_col='label',\n",
    "    target_size=IMG_SIZE,\n",
    "    batch_size=BATCH_SIZE,\n",
    "    class_mode='binary'\n",
    ")\n",
    "\n",
    "# Validation generator\n",
    "\n",
    "val_generator = val_datagen.flow_from_dataframe(\n",
    "    dataframe=val_data,\n",
    "    directory=train_images_dir,\n",
    "    x_col='file_name',\n",
    "    y_col='label',\n",
    "    target_size=IMG_SIZE,\n",
    "    batch_size=BATCH_SIZE,\n",
    "    class_mode='binary'\n",
    ")\n",
    "\n",
    "# Test generator\n",
    "\n",
    "test_generator = test_datagen.flow_from_dataframe(\n",
    "    dataframe=test_data,\n",
    "    directory=train_images_dir,\n",
    "    x_col='file_name',\n",
    "    y_col='label',\n",
    "    target_size=IMG_SIZE,\n",
    "    batch_size=BATCH_SIZE,\n",
    "    class_mode=None,\n",
    "    shuffle=False\n",
    ")"
   ]
  },
  {
   "cell_type": "code",
   "execution_count": 11,
   "id": "fed89b46",
   "metadata": {
    "execution": {
     "iopub.execute_input": "2025-10-31T16:14:02.229361Z",
     "iopub.status.busy": "2025-10-31T16:14:02.229109Z",
     "iopub.status.idle": "2025-10-31T16:14:02.236502Z",
     "shell.execute_reply": "2025-10-31T16:14:02.235785Z"
    },
    "papermill": {
     "duration": 0.01189,
     "end_time": "2025-10-31T16:14:02.237574",
     "exception": false,
     "start_time": "2025-10-31T16:14:02.225684",
     "status": "completed"
    },
    "tags": []
   },
   "outputs": [],
   "source": [
    "from tensorflow.keras.applications import ResNet50\n",
    "from tensorflow.keras.models import Model\n",
    "from tensorflow.keras.layers import Dense, GlobalAveragePooling2D, Dropout\n",
    "from tensorflow.keras.optimizers import Adam\n",
    "import matplotlib.pyplot as plt\n",
    "def build_resnet50_model(input_shape=(224, 224, 3), train_base=False):\n",
    "    base_model = ResNet50(weights='imagenet', include_top=False, input_shape=input_shape)\n",
    "\n",
    "    # Fine-tune top 30% of layers\n",
    "    if train_base:\n",
    "        for layer in base_model.layers[:100]:\n",
    "            layer.trainable = False\n",
    "        for layer in base_model.layers[100:]:\n",
    "            layer.trainable = True\n",
    "    else:\n",
    "        for layer in base_model.layers:\n",
    "            layer.trainable = False\n",
    "\n",
    "    x = base_model.output\n",
    "    x = GlobalAveragePooling2D()(x)\n",
    "    x = Dense(512, activation='relu')(x)\n",
    "    x = Dropout(0.4)(x)\n",
    "    output = Dense(1, activation='sigmoid')(x)\n",
    "\n",
    "    model = Model(inputs=base_model.input, outputs=output)\n",
    "    return model"
   ]
  },
  {
   "cell_type": "code",
   "execution_count": 12,
   "id": "9eca3640",
   "metadata": {
    "execution": {
     "iopub.execute_input": "2025-10-31T16:14:02.244117Z",
     "iopub.status.busy": "2025-10-31T16:14:02.243925Z",
     "iopub.status.idle": "2025-10-31T16:14:02.247287Z",
     "shell.execute_reply": "2025-10-31T16:14:02.246776Z"
    },
    "papermill": {
     "duration": 0.007665,
     "end_time": "2025-10-31T16:14:02.248234",
     "exception": false,
     "start_time": "2025-10-31T16:14:02.240569",
     "status": "completed"
    },
    "tags": []
   },
   "outputs": [],
   "source": [
    "# Compile model (consistent with your Adam optimizer settings)\n",
    "def compile_resnet_model(model):\n",
    "    Adam_optimizer = Adam(learning_rate=0.001, beta_1=0.90, beta_2=0.90, epsilon=1e-10)\n",
    "    model.compile(\n",
    "        loss=\"binary_crossentropy\",\n",
    "        optimizer=Adam_optimizer,\n",
    "        metrics=[\"accuracy\"]\n",
    "    )\n",
    "    return model\n"
   ]
  },
  {
   "cell_type": "code",
   "execution_count": 13,
   "id": "b73f27b5",
   "metadata": {
    "execution": {
     "iopub.execute_input": "2025-10-31T16:14:02.254367Z",
     "iopub.status.busy": "2025-10-31T16:14:02.254143Z",
     "iopub.status.idle": "2025-10-31T16:14:02.257619Z",
     "shell.execute_reply": "2025-10-31T16:14:02.257108Z"
    },
    "papermill": {
     "duration": 0.007664,
     "end_time": "2025-10-31T16:14:02.258646",
     "exception": false,
     "start_time": "2025-10-31T16:14:02.250982",
     "status": "completed"
    },
    "tags": []
   },
   "outputs": [],
   "source": [
    "# Train model for 20 epochs (no early stopping)\n",
    "def train_resnet_model(model, train_gen, val_gen, epochs=20):\n",
    "    \"\"\"\n",
    "    Trains the ResNet model for a fixed number of epochs.\n",
    "    \"\"\"\n",
    "    history = model.fit(\n",
    "        train_gen,\n",
    "        validation_data=val_gen,\n",
    "        epochs=epochs\n",
    "    )\n",
    "    return history"
   ]
  },
  {
   "cell_type": "code",
   "execution_count": 14,
   "id": "21edec0f",
   "metadata": {
    "execution": {
     "iopub.execute_input": "2025-10-31T16:14:02.264799Z",
     "iopub.status.busy": "2025-10-31T16:14:02.264610Z",
     "iopub.status.idle": "2025-10-31T16:14:02.269116Z",
     "shell.execute_reply": "2025-10-31T16:14:02.268600Z"
    },
    "papermill": {
     "duration": 0.008632,
     "end_time": "2025-10-31T16:14:02.270072",
     "exception": false,
     "start_time": "2025-10-31T16:14:02.261440",
     "status": "completed"
    },
    "tags": []
   },
   "outputs": [],
   "source": [
    "# Plot training curves (accuracy & loss)\n",
    "def plot_training_curves(history):\n",
    "    plt.figure(figsize=(14, 5))\n",
    "\n",
    "    plt.subplot(1, 2, 1)\n",
    "    plt.plot(history.history['accuracy'], label='Train Accuracy')\n",
    "    plt.plot(history.history['val_accuracy'], label='Validation Accuracy')\n",
    "    plt.title('Model Accuracy')\n",
    "    plt.xlabel('Epoch')\n",
    "    plt.ylabel('Accuracy')\n",
    "    plt.legend()\n",
    "\n",
    "    # Loss\n",
    "    plt.subplot(1, 2, 2)\n",
    "    plt.plot(history.history['loss'], label='Train Loss')\n",
    "    plt.plot(history.history['val_loss'], label='Validation Loss')\n",
    "    plt.title('Model Loss')\n",
    "    plt.xlabel('Epoch')\n",
    "    plt.ylabel('Loss')\n",
    "    plt.legend()\n",
    "\n",
    "    plt.show()\n"
   ]
  },
  {
   "cell_type": "code",
   "execution_count": 15,
   "id": "38bfc03d",
   "metadata": {
    "execution": {
     "iopub.execute_input": "2025-10-31T16:14:02.276357Z",
     "iopub.status.busy": "2025-10-31T16:14:02.276118Z",
     "iopub.status.idle": "2025-10-31T20:31:26.574175Z",
     "shell.execute_reply": "2025-10-31T20:31:26.573483Z"
    },
    "papermill": {
     "duration": 15445.540792,
     "end_time": "2025-10-31T20:31:27.813728",
     "exception": false,
     "start_time": "2025-10-31T16:14:02.272936",
     "status": "completed"
    },
    "tags": []
   },
   "outputs": [
    {
     "name": "stderr",
     "output_type": "stream",
     "text": [
      "I0000 00:00:1761927242.530304      19 gpu_device.cc:2022] Created device /job:localhost/replica:0/task:0/device:GPU:0 with 13942 MB memory:  -> device: 0, name: Tesla T4, pci bus id: 0000:00:04.0, compute capability: 7.5\n",
      "I0000 00:00:1761927242.530972      19 gpu_device.cc:2022] Created device /job:localhost/replica:0/task:0/device:GPU:1 with 13942 MB memory:  -> device: 1, name: Tesla T4, pci bus id: 0000:00:05.0, compute capability: 7.5\n"
     ]
    },
    {
     "name": "stdout",
     "output_type": "stream",
     "text": [
      "Downloading data from https://storage.googleapis.com/tensorflow/keras-applications/resnet/resnet50_weights_tf_dim_ordering_tf_kernels_notop.h5\n",
      "\u001b[1m94765736/94765736\u001b[0m \u001b[32m━━━━━━━━━━━━━━━━━━━━\u001b[0m\u001b[37m\u001b[0m \u001b[1m0s\u001b[0m 0us/step\n"
     ]
    },
    {
     "name": "stderr",
     "output_type": "stream",
     "text": [
      "/usr/local/lib/python3.11/dist-packages/keras/src/trainers/data_adapters/py_dataset_adapter.py:121: UserWarning: Your `PyDataset` class should call `super().__init__(**kwargs)` in its constructor. `**kwargs` can include `workers`, `use_multiprocessing`, `max_queue_size`. Do not pass these arguments to `fit()`, as they will be ignored.\n",
      "  self._warn_if_super_not_called()\n"
     ]
    },
    {
     "name": "stdout",
     "output_type": "stream",
     "text": [
      "Epoch 1/20\n"
     ]
    },
    {
     "name": "stderr",
     "output_type": "stream",
     "text": [
      "WARNING: All log messages before absl::InitializeLog() is called are written to STDERR\n",
      "I0000 00:00:1761927257.026050      61 service.cc:148] XLA service 0x7a7fec002870 initialized for platform CUDA (this does not guarantee that XLA will be used). Devices:\n",
      "I0000 00:00:1761927257.027052      61 service.cc:156]   StreamExecutor device (0): Tesla T4, Compute Capability 7.5\n",
      "I0000 00:00:1761927257.027076      61 service.cc:156]   StreamExecutor device (1): Tesla T4, Compute Capability 7.5\n",
      "I0000 00:00:1761927258.541269      61 cuda_dnn.cc:529] Loaded cuDNN version 90300\n"
     ]
    },
    {
     "name": "stdout",
     "output_type": "stream",
     "text": [
      "\u001b[1m   2/1749\u001b[0m \u001b[37m━━━━━━━━━━━━━━━━━━━━\u001b[0m \u001b[1m2:15\u001b[0m 78ms/step - accuracy: 0.4844 - loss: 1.0825  "
     ]
    },
    {
     "name": "stderr",
     "output_type": "stream",
     "text": [
      "I0000 00:00:1761927263.322504      61 device_compiler.h:188] Compiled cluster using XLA!  This line is logged at most once for the lifetime of the process.\n"
     ]
    },
    {
     "name": "stdout",
     "output_type": "stream",
     "text": [
      "\u001b[1m1749/1749\u001b[0m \u001b[32m━━━━━━━━━━━━━━━━━━━━\u001b[0m\u001b[37m\u001b[0m \u001b[1m1183s\u001b[0m 667ms/step - accuracy: 0.7671 - loss: 0.4960 - val_accuracy: 0.7864 - val_loss: 0.4841\n",
      "Epoch 2/20\n",
      "\u001b[1m1749/1749\u001b[0m \u001b[32m━━━━━━━━━━━━━━━━━━━━\u001b[0m\u001b[37m\u001b[0m \u001b[1m764s\u001b[0m 437ms/step - accuracy: 0.8102 - loss: 0.4337 - val_accuracy: 0.8054 - val_loss: 0.4321\n",
      "Epoch 3/20\n",
      "\u001b[1m1749/1749\u001b[0m \u001b[32m━━━━━━━━━━━━━━━━━━━━\u001b[0m\u001b[37m\u001b[0m \u001b[1m749s\u001b[0m 428ms/step - accuracy: 0.8167 - loss: 0.4239 - val_accuracy: 0.7826 - val_loss: 0.4492\n",
      "Epoch 4/20\n",
      "\u001b[1m1749/1749\u001b[0m \u001b[32m━━━━━━━━━━━━━━━━━━━━\u001b[0m\u001b[37m\u001b[0m \u001b[1m769s\u001b[0m 440ms/step - accuracy: 0.8164 - loss: 0.4224 - val_accuracy: 0.8081 - val_loss: 0.4317\n",
      "Epoch 5/20\n",
      "\u001b[1m1749/1749\u001b[0m \u001b[32m━━━━━━━━━━━━━━━━━━━━\u001b[0m\u001b[37m\u001b[0m \u001b[1m739s\u001b[0m 422ms/step - accuracy: 0.8228 - loss: 0.4133 - val_accuracy: 0.8115 - val_loss: 0.4257\n",
      "Epoch 6/20\n",
      "\u001b[1m1749/1749\u001b[0m \u001b[32m━━━━━━━━━━━━━━━━━━━━\u001b[0m\u001b[37m\u001b[0m \u001b[1m763s\u001b[0m 436ms/step - accuracy: 0.8201 - loss: 0.4200 - val_accuracy: 0.8307 - val_loss: 0.3952\n",
      "Epoch 7/20\n",
      "\u001b[1m1749/1749\u001b[0m \u001b[32m━━━━━━━━━━━━━━━━━━━━\u001b[0m\u001b[37m\u001b[0m \u001b[1m741s\u001b[0m 424ms/step - accuracy: 0.8235 - loss: 0.4129 - val_accuracy: 0.8290 - val_loss: 0.4052\n",
      "Epoch 8/20\n",
      "\u001b[1m1749/1749\u001b[0m \u001b[32m━━━━━━━━━━━━━━━━━━━━\u001b[0m\u001b[37m\u001b[0m \u001b[1m759s\u001b[0m 434ms/step - accuracy: 0.8250 - loss: 0.4077 - val_accuracy: 0.8162 - val_loss: 0.4230\n",
      "Epoch 9/20\n",
      "\u001b[1m1749/1749\u001b[0m \u001b[32m━━━━━━━━━━━━━━━━━━━━\u001b[0m\u001b[37m\u001b[0m \u001b[1m753s\u001b[0m 430ms/step - accuracy: 0.8264 - loss: 0.4091 - val_accuracy: 0.8341 - val_loss: 0.3990\n",
      "Epoch 10/20\n",
      "\u001b[1m1749/1749\u001b[0m \u001b[32m━━━━━━━━━━━━━━━━━━━━\u001b[0m\u001b[37m\u001b[0m \u001b[1m742s\u001b[0m 424ms/step - accuracy: 0.8253 - loss: 0.4090 - val_accuracy: 0.7994 - val_loss: 0.4502\n",
      "Epoch 11/20\n",
      "\u001b[1m1749/1749\u001b[0m \u001b[32m━━━━━━━━━━━━━━━━━━━━\u001b[0m\u001b[37m\u001b[0m \u001b[1m762s\u001b[0m 436ms/step - accuracy: 0.8266 - loss: 0.4073 - val_accuracy: 0.8193 - val_loss: 0.4320\n",
      "Epoch 12/20\n",
      "\u001b[1m1749/1749\u001b[0m \u001b[32m━━━━━━━━━━━━━━━━━━━━\u001b[0m\u001b[37m\u001b[0m \u001b[1m746s\u001b[0m 426ms/step - accuracy: 0.8309 - loss: 0.4005 - val_accuracy: 0.8216 - val_loss: 0.4208\n",
      "Epoch 13/20\n",
      "\u001b[1m1749/1749\u001b[0m \u001b[32m━━━━━━━━━━━━━━━━━━━━\u001b[0m\u001b[37m\u001b[0m \u001b[1m748s\u001b[0m 428ms/step - accuracy: 0.8283 - loss: 0.4105 - val_accuracy: 0.8386 - val_loss: 0.4182\n",
      "Epoch 14/20\n",
      "\u001b[1m1749/1749\u001b[0m \u001b[32m━━━━━━━━━━━━━━━━━━━━\u001b[0m\u001b[37m\u001b[0m \u001b[1m747s\u001b[0m 427ms/step - accuracy: 0.8276 - loss: 0.4142 - val_accuracy: 0.8346 - val_loss: 0.4373\n",
      "Epoch 15/20\n",
      "\u001b[1m1749/1749\u001b[0m \u001b[32m━━━━━━━━━━━━━━━━━━━━\u001b[0m\u001b[37m\u001b[0m \u001b[1m747s\u001b[0m 427ms/step - accuracy: 0.8276 - loss: 0.4082 - val_accuracy: 0.8153 - val_loss: 0.4475\n",
      "Epoch 16/20\n",
      "\u001b[1m1749/1749\u001b[0m \u001b[32m━━━━━━━━━━━━━━━━━━━━\u001b[0m\u001b[37m\u001b[0m \u001b[1m737s\u001b[0m 421ms/step - accuracy: 0.8286 - loss: 0.4017 - val_accuracy: 0.8094 - val_loss: 0.4627\n",
      "Epoch 17/20\n",
      "\u001b[1m1749/1749\u001b[0m \u001b[32m━━━━━━━━━━━━━━━━━━━━\u001b[0m\u001b[37m\u001b[0m \u001b[1m752s\u001b[0m 430ms/step - accuracy: 0.8314 - loss: 0.4007 - val_accuracy: 0.8323 - val_loss: 0.4190\n",
      "Epoch 18/20\n",
      "\u001b[1m1749/1749\u001b[0m \u001b[32m━━━━━━━━━━━━━━━━━━━━\u001b[0m\u001b[37m\u001b[0m \u001b[1m750s\u001b[0m 429ms/step - accuracy: 0.8328 - loss: 0.3980 - val_accuracy: 0.8340 - val_loss: 0.4284\n",
      "Epoch 19/20\n",
      "\u001b[1m1749/1749\u001b[0m \u001b[32m━━━━━━━━━━━━━━━━━━━━\u001b[0m\u001b[37m\u001b[0m \u001b[1m742s\u001b[0m 424ms/step - accuracy: 0.8314 - loss: 0.4077 - val_accuracy: 0.8270 - val_loss: 0.4377\n",
      "Epoch 20/20\n",
      "\u001b[1m1749/1749\u001b[0m \u001b[32m━━━━━━━━━━━━━━━━━━━━\u001b[0m\u001b[37m\u001b[0m \u001b[1m747s\u001b[0m 427ms/step - accuracy: 0.8301 - loss: 0.3997 - val_accuracy: 0.8374 - val_loss: 0.4071\n"
     ]
    },
    {
     "data": {
      "image/png": "[encoded data removed]",
      "text/plain": [
       "<Figure size 1400x500 with 2 Axes>"
      ]
     },
     "metadata": {},
     "output_type": "display_data"
    }
   ],
   "source": [
    "resnet_model = build_resnet50_model(input_shape=(224, 224, 3), train_base=False)\n",
    "resnet_model = compile_resnet_model(resnet_model)\n",
    "\n",
    "history = train_resnet_model(resnet_model, train_generator, val_generator, epochs=20)\n",
    "plot_training_curves(history)\n"
   ]
  },
  {
   "cell_type": "code",
   "execution_count": null,
   "id": "1878e7d2",
   "metadata": {
    "papermill": {
     "duration": 1.579605,
     "end_time": "2025-10-31T20:31:30.976172",
     "exception": false,
     "start_time": "2025-10-31T20:31:29.396567",
     "status": "completed"
    },
    "tags": []
   },
   "outputs": [],
   "source": []
  }
 ],
 "metadata": {
  "kaggle": {
   "accelerator": "nvidiaTeslaT4",
   "dataSources": [
    {
     "datasetId": 6412205,
     "sourceId": 10550636,
     "sourceType": "datasetVersion"
    }
   ],
   "dockerImageVersionId": 31153,
   "isGpuEnabled": true,
   "isInternetEnabled": true,
   "language": "python",
   "sourceType": "notebook"
  },
  "kernelspec": {
   "display_name": "Python 3",
   "language": "python",
   "name": "python3"
  },
  "language_info": {
   "codemirror_mode": {
    "name": "ipython",
    "version": 3
   },
   "file_extension": ".py",
   "mimetype": "text/x-python",
   "name": "python",
   "nbconvert_exporter": "python",
   "pygments_lexer": "ipython3",
   "version": "3.11.13"
  },
  "papermill": {
   "default_parameters": {},
   "duration": 15648.086006,
   "end_time": "2025-10-31T20:31:35.513107",
   "environment_variables": {},
   "exception": null,
   "input_path": "__notebook__.ipynb",
   "output_path": "__notebook__.ipynb",
   "parameters": {},
   "start_time": "2025-10-31T16:10:47.427101",
   "version": "2.6.0"
  }
 },
 "nbformat": 4,
 "nbformat_minor": 5
}
