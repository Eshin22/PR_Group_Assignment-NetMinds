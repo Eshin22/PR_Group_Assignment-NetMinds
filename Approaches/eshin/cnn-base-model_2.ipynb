{
 "cells": [
  {
   "cell_type": "markdown",
   "id": "7f8b8b99",
   "metadata": {
    "papermill": {
     "duration": 0.006342,
     "end_time": "2025-10-29T06:03:03.614413",
     "exception": false,
     "start_time": "2025-10-29T06:03:03.608071",
     "status": "completed"
    },
    "tags": []
   },
   "source": [
    "# Import Liabaries"
   ]
  },
  {
   "cell_type": "code",
   "execution_count": 1,
   "id": "0f95ec84",
   "metadata": {
    "execution": {
     "iopub.execute_input": "2025-10-29T06:03:03.626915Z",
     "iopub.status.busy": "2025-10-29T06:03:03.626045Z",
     "iopub.status.idle": "2025-10-29T06:03:15.038301Z",
     "shell.execute_reply": "2025-10-29T06:03:15.037630Z"
    },
    "papermill": {
     "duration": 11.419774,
     "end_time": "2025-10-29T06:03:15.039633",
     "exception": false,
     "start_time": "2025-10-29T06:03:03.619859",
     "status": "completed"
    },
    "tags": []
   },
   "outputs": [],
   "source": [
    "import os\n",
    "import random\n",
    "import pandas as pd\n",
    "import numpy as np\n",
    "import torch\n",
    "import torch.nn as nn\n",
    "import torch.optim as optim\n",
    "from PIL import Image\n",
    "from sklearn.model_selection import train_test_split\n",
    "from sklearn.metrics import (f1_score, accuracy_score, confusion_matrix, \n",
    "                             classification_report, precision_score, recall_score)\n",
    "from torch.optim.lr_scheduler import StepLR\n",
    "from torch.utils.data import DataLoader, Dataset\n",
    "from torchvision import transforms\n",
    "from tqdm import tqdm\n",
    "import matplotlib.pyplot as plt\n",
    "import seaborn as sns"
   ]
  },
  {
   "cell_type": "markdown",
   "id": "525625bf",
   "metadata": {
    "papermill": {
     "duration": 0.004408,
     "end_time": "2025-10-29T06:03:15.048946",
     "exception": false,
     "start_time": "2025-10-29T06:03:15.044538",
     "status": "completed"
    },
    "tags": []
   },
   "source": [
    "# Seed Everything"
   ]
  },
  {
   "cell_type": "code",
   "execution_count": 2,
   "id": "88dc5ce4",
   "metadata": {
    "execution": {
     "iopub.execute_input": "2025-10-29T06:03:15.059020Z",
     "iopub.status.busy": "2025-10-29T06:03:15.058292Z",
     "iopub.status.idle": "2025-10-29T06:03:15.062601Z",
     "shell.execute_reply": "2025-10-29T06:03:15.062012Z"
    },
    "papermill": {
     "duration": 0.01059,
     "end_time": "2025-10-29T06:03:15.063912",
     "exception": false,
     "start_time": "2025-10-29T06:03:15.053322",
     "status": "completed"
    },
    "tags": []
   },
   "outputs": [],
   "source": [
    "def seed_everything(seed):\n",
    "    random.seed(seed)\n",
    "    np.random.seed(seed)\n",
    "    torch.manual_seed(seed)\n",
    "    torch.cuda.manual_seed(seed)\n",
    "    torch.cuda.manual_seed_all(seed)\n",
    "    torch.backends.cudnn.deterministic = True\n",
    "    torch.backends.cudnn.benchmark = False\n"
   ]
  },
  {
   "cell_type": "markdown",
   "id": "05b1ae86",
   "metadata": {
    "papermill": {
     "duration": 0.004282,
     "end_time": "2025-10-29T06:03:15.072649",
     "exception": false,
     "start_time": "2025-10-29T06:03:15.068367",
     "status": "completed"
    },
    "tags": []
   },
   "source": [
    "# Hyperparameters "
   ]
  },
  {
   "cell_type": "code",
   "execution_count": 3,
   "id": "6f46df86",
   "metadata": {
    "execution": {
     "iopub.execute_input": "2025-10-29T06:03:15.082549Z",
     "iopub.status.busy": "2025-10-29T06:03:15.082317Z",
     "iopub.status.idle": "2025-10-29T06:03:15.151905Z",
     "shell.execute_reply": "2025-10-29T06:03:15.150935Z"
    },
    "papermill": {
     "duration": 0.075872,
     "end_time": "2025-10-29T06:03:15.153039",
     "exception": false,
     "start_time": "2025-10-29T06:03:15.077167",
     "status": "completed"
    },
    "tags": []
   },
   "outputs": [
    {
     "name": "stdout",
     "output_type": "stream",
     "text": [
      "Device used: cuda\n"
     ]
    }
   ],
   "source": [
    "seed = 42\n",
    "batch_size = 64\n",
    "epochs = 5\n",
    "lr = 0.001\n",
    "dropout_rate = 0.5\n",
    "\n",
    "seed_everything(seed)\n",
    "device = 'cuda' if torch.cuda.is_available() else 'cpu'\n",
    "print(f\"Device used: {device}\")"
   ]
  },
  {
   "cell_type": "markdown",
   "id": "89535c0e",
   "metadata": {
    "papermill": {
     "duration": 0.006051,
     "end_time": "2025-10-29T06:03:15.163813",
     "exception": false,
     "start_time": "2025-10-29T06:03:15.157762",
     "status": "completed"
    },
    "tags": []
   },
   "source": [
    "# Data Loading"
   ]
  },
  {
   "cell_type": "code",
   "execution_count": 4,
   "id": "bdced5fa",
   "metadata": {
    "execution": {
     "iopub.execute_input": "2025-10-29T06:03:15.174450Z",
     "iopub.status.busy": "2025-10-29T06:03:15.173797Z",
     "iopub.status.idle": "2025-10-29T06:03:15.507174Z",
     "shell.execute_reply": "2025-10-29T06:03:15.506179Z"
    },
    "papermill": {
     "duration": 0.340003,
     "end_time": "2025-10-29T06:03:15.508431",
     "exception": false,
     "start_time": "2025-10-29T06:03:15.168428",
     "status": "completed"
    },
    "tags": []
   },
   "outputs": [
    {
     "name": "stdout",
     "output_type": "stream",
     "text": [
      "Train Data: 55965\n",
      "Validation Data: 11992\n",
      "Test Data: 11993\n"
     ]
    }
   ],
   "source": [
    "base_dir = '/kaggle/input/ai-vs-human-generated-dataset'\n",
    "train_csv_path = os.path.join(base_dir, 'train.csv')\n",
    "test_csv_path = os.path.join(base_dir, 'test.csv')\n",
    "\n",
    "df_train = pd.read_csv(train_csv_path)\n",
    "df_test = pd.read_csv(test_csv_path)\n",
    "\n",
    "df_test['id'] = df_test['id'].apply(lambda x: os.path.join(base_dir, x))\n",
    "df_train['file_name'] = df_train['file_name'].apply(lambda x: os.path.join(base_dir, x))\n",
    "\n",
    "all_image_paths = df_train['file_name'].values\n",
    "all_labels = df_train['label'].values\n",
    "\n",
    "# Split: 70% train, 15% validation, 15% test\n",
    "train_paths, temp_paths, train_labels, temp_labels = train_test_split(\n",
    "    all_image_paths, all_labels, test_size=0.30, random_state=seed, stratify=all_labels\n",
    ")\n",
    "\n",
    "val_paths, test_paths, val_labels, test_labels = train_test_split(\n",
    "    temp_paths, temp_labels, test_size=0.50, random_state=seed, stratify=temp_labels\n",
    ")\n",
    "\n",
    "print(f\"Train Data: {len(train_paths)}\")\n",
    "print(f\"Validation Data: {len(val_paths)}\")\n",
    "print(f\"Test Data: {len(test_paths)}\")"
   ]
  },
  {
   "cell_type": "markdown",
   "id": "e7554007",
   "metadata": {
    "papermill": {
     "duration": 0.004584,
     "end_time": "2025-10-29T06:03:15.517828",
     "exception": false,
     "start_time": "2025-10-29T06:03:15.513244",
     "status": "completed"
    },
    "tags": []
   },
   "source": [
    "#  Data Transforms"
   ]
  },
  {
   "cell_type": "code",
   "execution_count": 5,
   "id": "e4866985",
   "metadata": {
    "execution": {
     "iopub.execute_input": "2025-10-29T06:03:15.527849Z",
     "iopub.status.busy": "2025-10-29T06:03:15.527251Z",
     "iopub.status.idle": "2025-10-29T06:03:15.532523Z",
     "shell.execute_reply": "2025-10-29T06:03:15.531807Z"
    },
    "papermill": {
     "duration": 0.011459,
     "end_time": "2025-10-29T06:03:15.533675",
     "exception": false,
     "start_time": "2025-10-29T06:03:15.522216",
     "status": "completed"
    },
    "tags": []
   },
   "outputs": [],
   "source": [
    "train_transforms = transforms.Compose([\n",
    "    transforms.Resize((128, 128)),\n",
    "    transforms.RandomHorizontalFlip(),\n",
    "    transforms.RandomRotation(15),\n",
    "    transforms.ColorJitter(brightness=0.2, contrast=0.2),\n",
    "    transforms.ToTensor(),\n",
    "    transforms.Normalize(mean=[0.485, 0.456, 0.406], std=[0.229, 0.224, 0.225]),\n",
    "])\n",
    "\n",
    "val_test_transforms = transforms.Compose([\n",
    "    transforms.Resize((128, 128)),\n",
    "    transforms.ToTensor(),\n",
    "    transforms.Normalize(mean=[0.485, 0.456, 0.406], std=[0.229, 0.224, 0.225]),\n",
    "])\n"
   ]
  },
  {
   "cell_type": "markdown",
   "id": "2115921b",
   "metadata": {
    "papermill": {
     "duration": 0.004181,
     "end_time": "2025-10-29T06:03:15.542416",
     "exception": false,
     "start_time": "2025-10-29T06:03:15.538235",
     "status": "completed"
    },
    "tags": []
   },
   "source": [
    "# Data Sets"
   ]
  },
  {
   "cell_type": "code",
   "execution_count": 6,
   "id": "ec584de2",
   "metadata": {
    "execution": {
     "iopub.execute_input": "2025-10-29T06:03:15.552344Z",
     "iopub.status.busy": "2025-10-29T06:03:15.552143Z",
     "iopub.status.idle": "2025-10-29T06:03:15.556571Z",
     "shell.execute_reply": "2025-10-29T06:03:15.556046Z"
    },
    "papermill": {
     "duration": 0.010906,
     "end_time": "2025-10-29T06:03:15.557688",
     "exception": false,
     "start_time": "2025-10-29T06:03:15.546782",
     "status": "completed"
    },
    "tags": []
   },
   "outputs": [],
   "source": [
    "class ImageDataset(Dataset):\n",
    "    def __init__(self, file_list, labels, transform=None):\n",
    "        self.file_list = file_list\n",
    "        self.labels = labels\n",
    "        self.transform = transform\n",
    "\n",
    "    def __len__(self):\n",
    "        return len(self.file_list)\n",
    "\n",
    "    def __getitem__(self, idx):\n",
    "        img_path = self.file_list[idx]\n",
    "        img = Image.open(img_path).convert(\"RGB\")\n",
    "        if self.transform:\n",
    "            img = self.transform(img)\n",
    "        label = self.labels[idx]\n",
    "        return img, label"
   ]
  },
  {
   "cell_type": "markdown",
   "id": "57f8c829",
   "metadata": {
    "papermill": {
     "duration": 0.004348,
     "end_time": "2025-10-29T06:03:15.566498",
     "exception": false,
     "start_time": "2025-10-29T06:03:15.562150",
     "status": "completed"
    },
    "tags": []
   },
   "source": [
    "# Create DataLoader"
   ]
  },
  {
   "cell_type": "code",
   "execution_count": 7,
   "id": "0a99de68",
   "metadata": {
    "execution": {
     "iopub.execute_input": "2025-10-29T06:03:15.576434Z",
     "iopub.status.busy": "2025-10-29T06:03:15.575949Z",
     "iopub.status.idle": "2025-10-29T06:03:15.580531Z",
     "shell.execute_reply": "2025-10-29T06:03:15.579978Z"
    },
    "papermill": {
     "duration": 0.010656,
     "end_time": "2025-10-29T06:03:15.581578",
     "exception": false,
     "start_time": "2025-10-29T06:03:15.570922",
     "status": "completed"
    },
    "tags": []
   },
   "outputs": [],
   "source": [
    "train_data = ImageDataset(train_paths, train_labels, transform=train_transforms)\n",
    "val_data = ImageDataset(val_paths, val_labels, transform=val_test_transforms)\n",
    "test_data = ImageDataset(test_paths, test_labels, transform=val_test_transforms)\n",
    "\n",
    "train_loader = DataLoader(train_data, batch_size=batch_size, shuffle=True, num_workers=4)\n",
    "val_loader = DataLoader(val_data, batch_size=batch_size, shuffle=False, num_workers=4)\n",
    "test_loader = DataLoader(test_data, batch_size=batch_size, shuffle=False, num_workers=4)"
   ]
  },
  {
   "cell_type": "markdown",
   "id": "58d14e68",
   "metadata": {
    "papermill": {
     "duration": 0.004366,
     "end_time": "2025-10-29T06:03:15.590371",
     "exception": false,
     "start_time": "2025-10-29T06:03:15.586005",
     "status": "completed"
    },
    "tags": []
   },
   "source": [
    "# CNN MODEL ARCHITECTURE"
   ]
  },
  {
   "cell_type": "code",
   "execution_count": 8,
   "id": "037b936e",
   "metadata": {
    "execution": {
     "iopub.execute_input": "2025-10-29T06:03:15.600030Z",
     "iopub.status.busy": "2025-10-29T06:03:15.599807Z",
     "iopub.status.idle": "2025-10-29T06:03:15.607600Z",
     "shell.execute_reply": "2025-10-29T06:03:15.607079Z"
    },
    "papermill": {
     "duration": 0.0141,
     "end_time": "2025-10-29T06:03:15.608773",
     "exception": false,
     "start_time": "2025-10-29T06:03:15.594673",
     "status": "completed"
    },
    "tags": []
   },
   "outputs": [],
   "source": [
    "class SimpleCNN(nn.Module):\n",
    "    \"\"\"\n",
    "    Custom CNN Architecture for Binary Image Classification\n",
    "    \n",
    "    Architecture:\n",
    "    - Conv1: 32 filters, 5x5 kernel, ReLU activation\n",
    "    - MaxPool1: 2x2\n",
    "    - Conv2: 64 filters, 3x3 kernel, ReLU activation\n",
    "    - MaxPool2: 2x2\n",
    "    - Conv3: 128 filters, 3x3 kernel, ReLU activation\n",
    "    - MaxPool3: 2x2\n",
    "    - Flatten\n",
    "    - FC1: 512 units, ReLU activation\n",
    "    - Dropout: 0.5\n",
    "    - Output: 2 units (binary classification), Softmax\n",
    "    \"\"\"\n",
    "    def __init__(self, num_classes=2, dropout_rate=0.5):\n",
    "        super(SimpleCNN, self).__init__()\n",
    "        \n",
    "        # Convolutional layers\n",
    "        self.conv1 = nn.Conv2d(in_channels=3, out_channels=32, kernel_size=5, padding=2)\n",
    "        self.bn1 = nn.BatchNorm2d(32)\n",
    "        self.relu1 = nn.ReLU()\n",
    "        self.pool1 = nn.MaxPool2d(kernel_size=2, stride=2)\n",
    "        \n",
    "        self.conv2 = nn.Conv2d(in_channels=32, out_channels=64, kernel_size=3, padding=1)\n",
    "        self.bn2 = nn.BatchNorm2d(64)\n",
    "        self.relu2 = nn.ReLU()\n",
    "        self.pool2 = nn.MaxPool2d(kernel_size=2, stride=2)\n",
    "        \n",
    "        self.conv3 = nn.Conv2d(in_channels=64, out_channels=128, kernel_size=3, padding=1)\n",
    "        self.bn3 = nn.BatchNorm2d(128)\n",
    "        self.relu3 = nn.ReLU()\n",
    "        self.pool3 = nn.MaxPool2d(kernel_size=2, stride=2)\n",
    "        \n",
    "        # Flatten and fully connected layers\n",
    "        self.flatten = nn.Flatten()\n",
    "        \n",
    "        # Calculate the size after convolutions and pooling\n",
    "        # Input: 128x128 -> Conv1+Pool1: 64x64 -> Conv2+Pool2: 32x32 -> Conv3+Pool3: 16x16\n",
    "        # 128 channels * 16 * 16 = 32768\n",
    "        self.fc1 = nn.Linear(128 * 16 * 16, 512)\n",
    "        self.relu4 = nn.ReLU()\n",
    "        self.dropout = nn.Dropout(p=dropout_rate)\n",
    "        self.fc2 = nn.Linear(512, num_classes)\n",
    "        \n",
    "    def forward(self, x):\n",
    "        # First conv block\n",
    "        x = self.conv1(x)\n",
    "        x = self.bn1(x)\n",
    "        x = self.relu1(x)\n",
    "        x = self.pool1(x)\n",
    "        \n",
    "        # Second conv block\n",
    "        x = self.conv2(x)\n",
    "        x = self.bn2(x)\n",
    "        x = self.relu2(x)\n",
    "        x = self.pool2(x)\n",
    "        \n",
    "        # Third conv block\n",
    "        x = self.conv3(x)\n",
    "        x = self.bn3(x)\n",
    "        x = self.relu3(x)\n",
    "        x = self.pool3(x)\n",
    "        \n",
    "        # Flatten and fully connected\n",
    "        x = self.flatten(x)\n",
    "        x = self.fc1(x)\n",
    "        x = self.relu4(x)\n",
    "        x = self.dropout(x)\n",
    "        x = self.fc2(x)\n",
    "        \n",
    "        return x\n"
   ]
  },
  {
   "cell_type": "markdown",
   "id": "e4fac54c",
   "metadata": {
    "papermill": {
     "duration": 0.004127,
     "end_time": "2025-10-29T06:03:15.617441",
     "exception": false,
     "start_time": "2025-10-29T06:03:15.613314",
     "status": "completed"
    },
    "tags": []
   },
   "source": [
    "#  INITIALIZE MODEL "
   ]
  },
  {
   "cell_type": "code",
   "execution_count": 9,
   "id": "ff34e4bc",
   "metadata": {
    "execution": {
     "iopub.execute_input": "2025-10-29T06:03:15.627071Z",
     "iopub.status.busy": "2025-10-29T06:03:15.626603Z",
     "iopub.status.idle": "2025-10-29T06:03:15.955555Z",
     "shell.execute_reply": "2025-10-29T06:03:15.954675Z"
    },
    "papermill": {
     "duration": 0.335553,
     "end_time": "2025-10-29T06:03:15.957228",
     "exception": false,
     "start_time": "2025-10-29T06:03:15.621675",
     "status": "completed"
    },
    "tags": []
   },
   "outputs": [
    {
     "name": "stdout",
     "output_type": "stream",
     "text": [
      "SimpleCNN(\n",
      "  (conv1): Conv2d(3, 32, kernel_size=(5, 5), stride=(1, 1), padding=(2, 2))\n",
      "  (bn1): BatchNorm2d(32, eps=1e-05, momentum=0.1, affine=True, track_running_stats=True)\n",
      "  (relu1): ReLU()\n",
      "  (pool1): MaxPool2d(kernel_size=2, stride=2, padding=0, dilation=1, ceil_mode=False)\n",
      "  (conv2): Conv2d(32, 64, kernel_size=(3, 3), stride=(1, 1), padding=(1, 1))\n",
      "  (bn2): BatchNorm2d(64, eps=1e-05, momentum=0.1, affine=True, track_running_stats=True)\n",
      "  (relu2): ReLU()\n",
      "  (pool2): MaxPool2d(kernel_size=2, stride=2, padding=0, dilation=1, ceil_mode=False)\n",
      "  (conv3): Conv2d(64, 128, kernel_size=(3, 3), stride=(1, 1), padding=(1, 1))\n",
      "  (bn3): BatchNorm2d(128, eps=1e-05, momentum=0.1, affine=True, track_running_stats=True)\n",
      "  (relu3): ReLU()\n",
      "  (pool3): MaxPool2d(kernel_size=2, stride=2, padding=0, dilation=1, ceil_mode=False)\n",
      "  (flatten): Flatten(start_dim=1, end_dim=-1)\n",
      "  (fc1): Linear(in_features=32768, out_features=512, bias=True)\n",
      "  (relu4): ReLU()\n",
      "  (dropout): Dropout(p=0.5, inplace=False)\n",
      "  (fc2): Linear(in_features=512, out_features=2, bias=True)\n",
      ")\n",
      "\n",
      "Total parameters: 16,873,986\n"
     ]
    }
   ],
   "source": [
    "model = SimpleCNN(num_classes=2, dropout_rate=dropout_rate).to(device)\n",
    "print(model)\n",
    "print(f\"\\nTotal parameters: {sum(p.numel() for p in model.parameters()):,}\")\n"
   ]
  },
  {
   "cell_type": "markdown",
   "id": "4569da90",
   "metadata": {
    "papermill": {
     "duration": 0.004408,
     "end_time": "2025-10-29T06:03:15.966530",
     "exception": false,
     "start_time": "2025-10-29T06:03:15.962122",
     "status": "completed"
    },
    "tags": []
   },
   "source": [
    "# LOSS AND OPTIMIZER"
   ]
  },
  {
   "cell_type": "code",
   "execution_count": 10,
   "id": "04eb5669",
   "metadata": {
    "execution": {
     "iopub.execute_input": "2025-10-29T06:03:15.976820Z",
     "iopub.status.busy": "2025-10-29T06:03:15.976513Z",
     "iopub.status.idle": "2025-10-29T06:03:15.982151Z",
     "shell.execute_reply": "2025-10-29T06:03:15.981509Z"
    },
    "papermill": {
     "duration": 0.012051,
     "end_time": "2025-10-29T06:03:15.983184",
     "exception": false,
     "start_time": "2025-10-29T06:03:15.971133",
     "status": "completed"
    },
    "tags": []
   },
   "outputs": [
    {
     "name": "stdout",
     "output_type": "stream",
     "text": [
      "\n",
      "Using optimizer: Adam\n",
      "Learning rate: 0.001\n",
      "Dropout rate: 0.5\n"
     ]
    }
   ],
   "source": [
    "criterion = nn.CrossEntropyLoss()\n",
    "\n",
    "# We'll compare three optimizers:\n",
    "# 1. Adam (our main choice)\n",
    "optimizer_adam = optim.Adam(model.parameters(), lr=lr)\n",
    "\n",
    "# 2. SGD (for comparison)\n",
    "optimizer_sgd = optim.SGD(model.parameters(), lr=lr)\n",
    "\n",
    "# 3. SGD with Momentum (for comparison)\n",
    "optimizer_sgd_momentum = optim.SGD(model.parameters(), lr=lr, momentum=0.9)\n",
    "\n",
    "# Choose Adam as the primary optimizer\n",
    "optimizer = optimizer_adam\n",
    "scheduler = StepLR(optimizer, step_size=5, gamma=0.5)\n",
    "\n",
    "print(f\"\\nUsing optimizer: Adam\")\n",
    "print(f\"Learning rate: {lr}\")\n",
    "print(f\"Dropout rate: {dropout_rate}\")"
   ]
  },
  {
   "cell_type": "markdown",
   "id": "50f45414",
   "metadata": {
    "papermill": {
     "duration": 0.004333,
     "end_time": "2025-10-29T06:03:15.992135",
     "exception": false,
     "start_time": "2025-10-29T06:03:15.987802",
     "status": "completed"
    },
    "tags": []
   },
   "source": [
    "# TRAINING FUNCTION "
   ]
  },
  {
   "cell_type": "code",
   "execution_count": 11,
   "id": "edcc9542",
   "metadata": {
    "execution": {
     "iopub.execute_input": "2025-10-29T06:03:16.002183Z",
     "iopub.status.busy": "2025-10-29T06:03:16.001586Z",
     "iopub.status.idle": "2025-10-29T06:03:16.006852Z",
     "shell.execute_reply": "2025-10-29T06:03:16.006106Z"
    },
    "papermill": {
     "duration": 0.011416,
     "end_time": "2025-10-29T06:03:16.007973",
     "exception": false,
     "start_time": "2025-10-29T06:03:15.996557",
     "status": "completed"
    },
    "tags": []
   },
   "outputs": [],
   "source": [
    "def train_epoch(model, train_loader, criterion, optimizer, device):\n",
    "    model.train()\n",
    "    epoch_loss = 0.0\n",
    "    epoch_accuracy = 0.0\n",
    "    \n",
    "    for data, label in tqdm(train_loader, desc=\"Training\", leave=False):\n",
    "        data, label = data.to(device), label.to(device)\n",
    "        \n",
    "        optimizer.zero_grad()\n",
    "        output = model(data)\n",
    "        loss = criterion(output, label)\n",
    "        loss.backward()\n",
    "        optimizer.step()\n",
    "        \n",
    "        epoch_loss += loss.item()\n",
    "        preds = output.argmax(dim=1)\n",
    "        epoch_accuracy += (preds == label).float().mean().item()\n",
    "    \n",
    "    epoch_loss /= len(train_loader)\n",
    "    epoch_accuracy /= len(train_loader)\n",
    "    \n",
    "    return epoch_loss, epoch_accuracy"
   ]
  },
  {
   "cell_type": "markdown",
   "id": "e7e7e7ea",
   "metadata": {
    "papermill": {
     "duration": 0.004394,
     "end_time": "2025-10-29T06:03:16.016971",
     "exception": false,
     "start_time": "2025-10-29T06:03:16.012577",
     "status": "completed"
    },
    "tags": []
   },
   "source": [
    "# VALIDATION FUNCTION "
   ]
  },
  {
   "cell_type": "code",
   "execution_count": 12,
   "id": "8588b035",
   "metadata": {
    "execution": {
     "iopub.execute_input": "2025-10-29T06:03:16.027252Z",
     "iopub.status.busy": "2025-10-29T06:03:16.026612Z",
     "iopub.status.idle": "2025-10-29T06:03:16.032392Z",
     "shell.execute_reply": "2025-10-29T06:03:16.031619Z"
    },
    "papermill": {
     "duration": 0.012121,
     "end_time": "2025-10-29T06:03:16.033536",
     "exception": false,
     "start_time": "2025-10-29T06:03:16.021415",
     "status": "completed"
    },
    "tags": []
   },
   "outputs": [],
   "source": [
    "# ==================== VALIDATION FUNCTION ====================\n",
    "def validate_epoch(model, val_loader, criterion, device):\n",
    "    model.eval()\n",
    "    val_loss = 0.0\n",
    "    val_accuracy = 0.0\n",
    "    all_preds = []\n",
    "    all_labels = []\n",
    "    \n",
    "    with torch.no_grad():\n",
    "        for data, label in tqdm(val_loader, desc=\"Validation\", leave=False):\n",
    "            data, label = data.to(device), label.to(device)\n",
    "            output = model(data)\n",
    "            loss = criterion(output, label)\n",
    "            \n",
    "            val_loss += loss.item()\n",
    "            preds = output.argmax(dim=1)\n",
    "            val_accuracy += (preds == label).float().mean().item()\n",
    "            \n",
    "            all_preds.extend(preds.cpu().numpy())\n",
    "            all_labels.extend(label.cpu().numpy())\n",
    "    \n",
    "    val_loss /= len(val_loader)\n",
    "    val_accuracy /= len(val_loader)\n",
    "    val_f1 = f1_score(all_labels, all_preds)\n",
    "    \n",
    "    return val_loss, val_accuracy, val_f1"
   ]
  },
  {
   "cell_type": "markdown",
   "id": "e7514c93",
   "metadata": {
    "papermill": {
     "duration": 0.004382,
     "end_time": "2025-10-29T06:03:16.042527",
     "exception": false,
     "start_time": "2025-10-29T06:03:16.038145",
     "status": "completed"
    },
    "tags": []
   },
   "source": [
    "# TRAINING LOOP"
   ]
  },
  {
   "cell_type": "code",
   "execution_count": 13,
   "id": "481cd555",
   "metadata": {
    "execution": {
     "iopub.execute_input": "2025-10-29T06:03:16.052601Z",
     "iopub.status.busy": "2025-10-29T06:03:16.052180Z",
     "iopub.status.idle": "2025-10-29T06:18:55.654068Z",
     "shell.execute_reply": "2025-10-29T06:18:55.653184Z"
    },
    "papermill": {
     "duration": 939.608223,
     "end_time": "2025-10-29T06:18:55.655227",
     "exception": false,
     "start_time": "2025-10-29T06:03:16.047004",
     "status": "completed"
    },
    "tags": []
   },
   "outputs": [
    {
     "name": "stdout",
     "output_type": "stream",
     "text": [
      "\n",
      "============================================================\n",
      "TRAINING STARTED\n",
      "============================================================\n",
      "\n",
      "Epoch [1/5]\n"
     ]
    },
    {
     "name": "stderr",
     "output_type": "stream",
     "text": [
      "                                                             \r"
     ]
    },
    {
     "name": "stdout",
     "output_type": "stream",
     "text": [
      "Train Loss: 0.5710 | Train Acc: 0.8030\n",
      "Val Loss: 0.3911 | Val Acc: 0.8118 | Val F1: 0.8347\n",
      "✓ Best model saved! (F1: 0.8347)\n",
      "\n",
      "Epoch [2/5]\n"
     ]
    },
    {
     "name": "stderr",
     "output_type": "stream",
     "text": [
      "                                                             \r"
     ]
    },
    {
     "name": "stdout",
     "output_type": "stream",
     "text": [
      "Train Loss: 0.4004 | Train Acc: 0.8306\n",
      "Val Loss: 0.3579 | Val Acc: 0.8421 | Val F1: 0.8574\n",
      "✓ Best model saved! (F1: 0.8574)\n",
      "\n",
      "Epoch [3/5]\n"
     ]
    },
    {
     "name": "stderr",
     "output_type": "stream",
     "text": [
      "                                                             \r"
     ]
    },
    {
     "name": "stdout",
     "output_type": "stream",
     "text": [
      "Train Loss: 0.3679 | Train Acc: 0.8477\n",
      "Val Loss: 0.3039 | Val Acc: 0.8778 | Val F1: 0.8808\n",
      "✓ Best model saved! (F1: 0.8808)\n",
      "\n",
      "Epoch [4/5]\n"
     ]
    },
    {
     "name": "stderr",
     "output_type": "stream",
     "text": [
      "                                                             \r"
     ]
    },
    {
     "name": "stdout",
     "output_type": "stream",
     "text": [
      "Train Loss: 0.3402 | Train Acc: 0.8623\n",
      "Val Loss: 0.2657 | Val Acc: 0.8930 | Val F1: 0.8957\n",
      "✓ Best model saved! (F1: 0.8957)\n",
      "\n",
      "Epoch [5/5]\n"
     ]
    },
    {
     "name": "stderr",
     "output_type": "stream",
     "text": [
      "                                                             \r"
     ]
    },
    {
     "name": "stdout",
     "output_type": "stream",
     "text": [
      "Train Loss: 0.3189 | Train Acc: 0.8729\n",
      "Val Loss: 0.2950 | Val Acc: 0.8676 | Val F1: 0.8795\n",
      "\n",
      "============================================================\n",
      "TRAINING COMPLETED\n",
      "============================================================\n"
     ]
    }
   ],
   "source": [
    "\n",
    "train_losses = []\n",
    "train_accuracies = []\n",
    "val_losses = []\n",
    "val_accuracies = []\n",
    "val_f1s = []\n",
    "\n",
    "best_val_f1 = 0.0\n",
    "best_model_path = \"best_cnn_model.pth\"\n",
    "\n",
    "print(\"\\n\" + \"=\"*60)\n",
    "print(\"TRAINING STARTED\")\n",
    "print(\"=\"*60)\n",
    "\n",
    "for epoch in range(epochs):\n",
    "    print(f\"\\nEpoch [{epoch+1}/{epochs}]\")\n",
    "    \n",
    "    # Train\n",
    "    train_loss, train_acc = train_epoch(model, train_loader, criterion, optimizer, device)\n",
    "    train_losses.append(train_loss)\n",
    "    train_accuracies.append(train_acc)\n",
    "    \n",
    "    # Validate\n",
    "    val_loss, val_acc, val_f1 = validate_epoch(model, val_loader, criterion, device)\n",
    "    val_losses.append(val_loss)\n",
    "    val_accuracies.append(val_acc)\n",
    "    val_f1s.append(val_f1)\n",
    "    \n",
    "    # Print metrics\n",
    "    print(f\"Train Loss: {train_loss:.4f} | Train Acc: {train_acc:.4f}\")\n",
    "    print(f\"Val Loss: {val_loss:.4f} | Val Acc: {val_acc:.4f} | Val F1: {val_f1:.4f}\")\n",
    "    \n",
    "    # Save best model\n",
    "    if val_f1 > best_val_f1:\n",
    "        best_val_f1 = val_f1\n",
    "        torch.save(model.state_dict(), best_model_path)\n",
    "        print(f\"✓ Best model saved! (F1: {val_f1:.4f})\")\n",
    "    \n",
    "    # Step scheduler\n",
    "    scheduler.step()\n",
    "\n",
    "print(\"\\n\" + \"=\"*60)\n",
    "print(\"TRAINING COMPLETED\")\n",
    "print(\"=\"*60)\n"
   ]
  },
  {
   "cell_type": "markdown",
   "id": "91699b92",
   "metadata": {
    "papermill": {
     "duration": 0.085943,
     "end_time": "2025-10-29T06:18:55.831402",
     "exception": false,
     "start_time": "2025-10-29T06:18:55.745459",
     "status": "completed"
    },
    "tags": []
   },
   "source": [
    "# PLOT TRAINING CURVES"
   ]
  },
  {
   "cell_type": "code",
   "execution_count": 14,
   "id": "3b918ad3",
   "metadata": {
    "execution": {
     "iopub.execute_input": "2025-10-29T06:18:56.008583Z",
     "iopub.status.busy": "2025-10-29T06:18:56.008057Z",
     "iopub.status.idle": "2025-10-29T06:19:46.696774Z",
     "shell.execute_reply": "2025-10-29T06:19:46.695656Z"
    },
    "papermill": {
     "duration": 50.779519,
     "end_time": "2025-10-29T06:19:46.698177",
     "exception": false,
     "start_time": "2025-10-29T06:18:55.918658",
     "status": "completed"
    },
    "tags": []
   },
   "outputs": [
    {
     "data": {
      "image/png": "[encoded data removed]",
      "text/plain": [
       "<Figure size 1500x500 with 2 Axes>"
      ]
     },
     "metadata": {},
     "output_type": "display_data"
    },
    {
     "name": "stdout",
     "output_type": "stream",
     "text": [
      "\n",
      "============================================================\n",
      "EVALUATING ON TEST SET\n",
      "============================================================\n"
     ]
    },
    {
     "name": "stderr",
     "output_type": "stream",
     "text": [
      "Testing: 100%|██████████| 188/188 [00:49<00:00,  3.80it/s]\n"
     ]
    }
   ],
   "source": [
    "\n",
    "fig, axes = plt.subplots(1, 2, figsize=(15, 5))\n",
    "\n",
    "# Loss plot\n",
    "axes[0].plot(range(1, epochs+1), train_losses, 'b-', label='Train Loss', marker='o')\n",
    "axes[0].plot(range(1, epochs+1), val_losses, 'r-', label='Validation Loss', marker='s')\n",
    "axes[0].set_xlabel('Epoch')\n",
    "axes[0].set_ylabel('Loss')\n",
    "axes[0].set_title('Training and Validation Loss')\n",
    "axes[0].legend()\n",
    "axes[0].grid(True)\n",
    "\n",
    "# Accuracy plot\n",
    "axes[1].plot(range(1, epochs+1), train_accuracies, 'b-', label='Train Accuracy', marker='o')\n",
    "axes[1].plot(range(1, epochs+1), val_accuracies, 'r-', label='Validation Accuracy', marker='s')\n",
    "axes[1].set_xlabel('Epoch')\n",
    "axes[1].set_ylabel('Accuracy')\n",
    "axes[1].set_title('Training and Validation Accuracy')\n",
    "axes[1].legend()\n",
    "axes[1].grid(True)\n",
    "\n",
    "plt.tight_layout()\n",
    "plt.savefig('training_curves.png', dpi=300, bbox_inches='tight')\n",
    "plt.show()\n",
    "\n",
    "# ==================== EVALUATE ON TEST SET ====================\n",
    "print(\"\\n\" + \"=\"*60)\n",
    "print(\"EVALUATING ON TEST SET\")\n",
    "print(\"=\"*60)\n",
    "\n",
    "# Load best model\n",
    "model.load_state_dict(torch.load(best_model_path))\n",
    "model.eval()\n",
    "\n",
    "all_preds = []\n",
    "all_labels = []\n",
    "\n",
    "with torch.no_grad():\n",
    "    for data, label in tqdm(test_loader, desc=\"Testing\"):\n",
    "        data, label = data.to(device), label.to(device)\n",
    "        output = model(data)\n",
    "        preds = output.argmax(dim=1)\n",
    "        all_preds.extend(preds.cpu().numpy())\n",
    "        all_labels.extend(label.cpu().numpy())\n"
   ]
  },
  {
   "cell_type": "markdown",
   "id": "f289df9f",
   "metadata": {
    "papermill": {
     "duration": 0.093796,
     "end_time": "2025-10-29T06:19:46.888740",
     "exception": false,
     "start_time": "2025-10-29T06:19:46.794944",
     "status": "completed"
    },
    "tags": []
   },
   "source": [
    " # EVALUATE ON TEST SET"
   ]
  },
  {
   "cell_type": "code",
   "execution_count": 15,
   "id": "f0542a2e",
   "metadata": {
    "execution": {
     "iopub.execute_input": "2025-10-29T06:19:47.075429Z",
     "iopub.status.busy": "2025-10-29T06:19:47.075127Z",
     "iopub.status.idle": "2025-10-29T06:20:12.387919Z",
     "shell.execute_reply": "2025-10-29T06:20:12.387032Z"
    },
    "papermill": {
     "duration": 25.408582,
     "end_time": "2025-10-29T06:20:12.389572",
     "exception": false,
     "start_time": "2025-10-29T06:19:46.980990",
     "status": "completed"
    },
    "tags": []
   },
   "outputs": [
    {
     "name": "stdout",
     "output_type": "stream",
     "text": [
      "\n",
      "============================================================\n",
      "EVALUATING ON TEST SET\n",
      "============================================================\n"
     ]
    },
    {
     "name": "stderr",
     "output_type": "stream",
     "text": [
      "Testing: 100%|██████████| 188/188 [00:24<00:00,  7.60it/s]\n"
     ]
    },
    {
     "name": "stdout",
     "output_type": "stream",
     "text": [
      "\n",
      "Test Accuracy: 0.8910\n",
      "Test F1 Score: 0.8941\n",
      "Test Precision: 0.8694\n",
      "Test Recall: 0.9203\n",
      "\n",
      "Classification Report:\n",
      "              precision    recall  f1-score   support\n",
      "\n",
      "       Human       0.92      0.86      0.89      5997\n",
      "          AI       0.87      0.92      0.89      5996\n",
      "\n",
      "    accuracy                           0.89     11993\n",
      "   macro avg       0.89      0.89      0.89     11993\n",
      "weighted avg       0.89      0.89      0.89     11993\n",
      "\n"
     ]
    },
    {
     "data": {
      "image/png": "[encoded data removed]",
      "text/plain": [
       "<Figure size 800x600 with 2 Axes>"
      ]
     },
     "metadata": {},
     "output_type": "display_data"
    },
    {
     "name": "stdout",
     "output_type": "stream",
     "text": [
      "\n",
      "============================================================\n",
      "EVALUATION COMPLETED\n",
      "============================================================\n"
     ]
    }
   ],
   "source": [
    "print(\"\\n\" + \"=\"*60)\n",
    "print(\"EVALUATING ON TEST SET\")\n",
    "print(\"=\"*60)\n",
    "\n",
    "# Load best model\n",
    "model.load_state_dict(torch.load(best_model_path))\n",
    "model.eval()\n",
    "\n",
    "all_preds = []\n",
    "all_labels = []\n",
    "\n",
    "with torch.no_grad():\n",
    "    for data, label in tqdm(test_loader, desc=\"Testing\"):\n",
    "        data, label = data.to(device), label.to(device)\n",
    "        output = model(data)\n",
    "        preds = output.argmax(dim=1)\n",
    "        all_preds.extend(preds.cpu().numpy())\n",
    "        all_labels.extend(label.cpu().numpy())\n",
    "\n",
    "# Calculate metrics\n",
    "test_accuracy = accuracy_score(all_labels, all_preds)\n",
    "test_f1 = f1_score(all_labels, all_preds)\n",
    "test_precision = precision_score(all_labels, all_preds)\n",
    "test_recall = recall_score(all_labels, all_preds)\n",
    "conf_matrix = confusion_matrix(all_labels, all_preds)\n",
    "\n",
    "print(f\"\\nTest Accuracy: {test_accuracy:.4f}\")\n",
    "print(f\"Test F1 Score: {test_f1:.4f}\")\n",
    "print(f\"Test Precision: {test_precision:.4f}\")\n",
    "print(f\"Test Recall: {test_recall:.4f}\")\n",
    "\n",
    "# Classification report\n",
    "print(\"\\nClassification Report:\")\n",
    "print(classification_report(all_labels, all_preds, target_names=['Human', 'AI']))\n",
    "\n",
    "# Plot confusion matrix\n",
    "plt.figure(figsize=(8, 6))\n",
    "sns.heatmap(conf_matrix, annot=True, fmt='d', cmap='Blues', \n",
    "            xticklabels=['Human', 'AI'], yticklabels=['Human', 'AI'])\n",
    "plt.title('Confusion Matrix')\n",
    "plt.ylabel('True Label')\n",
    "plt.xlabel('Predicted Label')\n",
    "plt.savefig('confusion_matrix.png', dpi=300, bbox_inches='tight')\n",
    "plt.show()\n",
    "\n",
    "print(\"\\n\" + \"=\"*60)\n",
    "print(\"EVALUATION COMPLETED\")\n",
    "print(\"=\"*60)"
   ]
  },
  {
   "cell_type": "markdown",
   "id": "3e1374b0",
   "metadata": {
    "papermill": {
     "duration": 0.096664,
     "end_time": "2025-10-29T06:20:12.586133",
     "exception": false,
     "start_time": "2025-10-29T06:20:12.489469",
     "status": "completed"
    },
    "tags": []
   },
   "source": [
    "# SUBMISSION"
   ]
  },
  {
   "cell_type": "code",
   "execution_count": 16,
   "id": "9faf10a9",
   "metadata": {
    "execution": {
     "iopub.execute_input": "2025-10-29T06:20:12.782182Z",
     "iopub.status.busy": "2025-10-29T06:20:12.781340Z",
     "iopub.status.idle": "2025-10-29T06:21:16.263923Z",
     "shell.execute_reply": "2025-10-29T06:21:16.262952Z"
    },
    "papermill": {
     "duration": 63.582256,
     "end_time": "2025-10-29T06:21:16.265174",
     "exception": false,
     "start_time": "2025-10-29T06:20:12.682918",
     "status": "completed"
    },
    "tags": []
   },
   "outputs": [
    {
     "name": "stderr",
     "output_type": "stream",
     "text": [
      "Generating Kaggle Predictions: 100%|██████████| 87/87 [01:03<00:00,  1.37it/s]"
     ]
    },
    {
     "name": "stdout",
     "output_type": "stream",
     "text": [
      "\n",
      "✓ Submission file generated: cnn_submission.csv\n",
      "Total predictions: 5540\n"
     ]
    },
    {
     "name": "stderr",
     "output_type": "stream",
     "text": [
      "\n"
     ]
    }
   ],
   "source": [
    "class TestDataset(Dataset):\n",
    "    def __init__(self, file_list, transform=None):\n",
    "        self.file_list = file_list\n",
    "        self.transform = transform\n",
    "\n",
    "    def __len__(self):\n",
    "        return len(self.file_list)\n",
    "\n",
    "    def __getitem__(self, idx):\n",
    "        img_path = self.file_list[idx]\n",
    "        img = Image.open(img_path).convert(\"RGB\")\n",
    "        if self.transform:\n",
    "            img = self.transform(img)\n",
    "        return img, os.path.basename(img_path)\n",
    "\n",
    "kaggle_test_dataset = TestDataset(df_test['id'].values, transform=val_test_transforms)\n",
    "kaggle_test_loader = DataLoader(kaggle_test_dataset, batch_size=batch_size, \n",
    "                                shuffle=False, num_workers=4)\n",
    "\n",
    "predictions = []\n",
    "image_names = []\n",
    "\n",
    "model.eval()\n",
    "with torch.no_grad():\n",
    "    for data, names in tqdm(kaggle_test_loader, desc=\"Generating Kaggle Predictions\"):\n",
    "        data = data.to(device)\n",
    "        outputs = model(data)\n",
    "        preds = outputs.argmax(dim=1)\n",
    "        predictions.extend(preds.cpu().numpy())\n",
    "        image_names.extend([f\"test_data_v2/{name}\" for name in names])\n",
    "\n",
    "submission_df = pd.DataFrame({\n",
    "    'id': image_names,\n",
    "    'label': predictions\n",
    "})\n",
    "\n",
    "submission_df.to_csv(\"cnn_submission.csv\", index=False)\n",
    "print(\"\\n✓ Submission file generated: cnn_submission.csv\")\n",
    "print(f\"Total predictions: {len(submission_df)}\")"
   ]
  },
  {
   "cell_type": "markdown",
   "id": "083f493f",
   "metadata": {
    "papermill": {
     "duration": 0.099635,
     "end_time": "2025-10-29T06:21:16.465418",
     "exception": false,
     "start_time": "2025-10-29T06:21:16.365783",
     "status": "completed"
    },
    "tags": []
   },
   "source": [
    "# Data Leakage Fixed Code"
   ]
  },
  {
   "cell_type": "code",
   "execution_count": 17,
   "id": "2c8761b1",
   "metadata": {
    "execution": {
     "iopub.execute_input": "2025-10-29T06:21:16.668098Z",
     "iopub.status.busy": "2025-10-29T06:21:16.667828Z",
     "iopub.status.idle": "2025-10-29T06:37:35.747184Z",
     "shell.execute_reply": "2025-10-29T06:37:35.746011Z"
    },
    "papermill": {
     "duration": 979.183243,
     "end_time": "2025-10-29T06:37:35.748849",
     "exception": false,
     "start_time": "2025-10-29T06:21:16.565606",
     "status": "completed"
    },
    "tags": []
   },
   "outputs": [
    {
     "name": "stdout",
     "output_type": "stream",
     "text": [
      "Device used: cuda\n",
      "Train Data: 63960 (80%)\n",
      "Validation Data: 15990 (20%)\n",
      "Kaggle Test Data: 5540 (completely separate)\n",
      "SimpleCNN(\n",
      "  (conv1): Conv2d(3, 32, kernel_size=(5, 5), stride=(1, 1), padding=(2, 2))\n",
      "  (bn1): BatchNorm2d(32, eps=1e-05, momentum=0.1, affine=True, track_running_stats=True)\n",
      "  (relu1): ReLU()\n",
      "  (pool1): MaxPool2d(kernel_size=2, stride=2, padding=0, dilation=1, ceil_mode=False)\n",
      "  (conv2): Conv2d(32, 64, kernel_size=(3, 3), stride=(1, 1), padding=(1, 1))\n",
      "  (bn2): BatchNorm2d(64, eps=1e-05, momentum=0.1, affine=True, track_running_stats=True)\n",
      "  (relu2): ReLU()\n",
      "  (pool2): MaxPool2d(kernel_size=2, stride=2, padding=0, dilation=1, ceil_mode=False)\n",
      "  (conv3): Conv2d(64, 128, kernel_size=(3, 3), stride=(1, 1), padding=(1, 1))\n",
      "  (bn3): BatchNorm2d(128, eps=1e-05, momentum=0.1, affine=True, track_running_stats=True)\n",
      "  (relu3): ReLU()\n",
      "  (pool3): MaxPool2d(kernel_size=2, stride=2, padding=0, dilation=1, ceil_mode=False)\n",
      "  (flatten): Flatten(start_dim=1, end_dim=-1)\n",
      "  (fc1): Linear(in_features=32768, out_features=512, bias=True)\n",
      "  (relu4): ReLU()\n",
      "  (dropout): Dropout(p=0.5, inplace=False)\n",
      "  (fc2): Linear(in_features=512, out_features=2, bias=True)\n",
      ")\n",
      "\n",
      "Total parameters: 16,873,986\n",
      "\n",
      "Using optimizer: Adam\n",
      "Learning rate: 0.001\n",
      "Dropout rate: 0.5\n",
      "\n",
      "============================================================\n",
      "TRAINING STARTED (Data Leakage Fixed)\n",
      "============================================================\n",
      "\n",
      "Epoch [1/5]\n"
     ]
    },
    {
     "name": "stderr",
     "output_type": "stream",
     "text": [
      "                                                             \r"
     ]
    },
    {
     "name": "stdout",
     "output_type": "stream",
     "text": [
      "Train Loss: 0.6019 | Train Acc: 0.8041\n",
      "Val Loss: 0.4018 | Val Acc: 0.8085 | Val F1: 0.8334\n",
      "✓ Best model saved! (F1: 0.8334)\n",
      "\n",
      "Epoch [2/5]\n"
     ]
    },
    {
     "name": "stderr",
     "output_type": "stream",
     "text": [
      "                                                             \r"
     ]
    },
    {
     "name": "stdout",
     "output_type": "stream",
     "text": [
      "Train Loss: 0.3950 | Train Acc: 0.8358\n",
      "Val Loss: 0.3422 | Val Acc: 0.8690 | Val F1: 0.8599\n",
      "✓ Best model saved! (F1: 0.8599)\n",
      "\n",
      "Epoch [3/5]\n"
     ]
    },
    {
     "name": "stderr",
     "output_type": "stream",
     "text": [
      "                                                             \r"
     ]
    },
    {
     "name": "stdout",
     "output_type": "stream",
     "text": [
      "Train Loss: 0.3634 | Train Acc: 0.8490\n",
      "Val Loss: 0.2852 | Val Acc: 0.8713 | Val F1: 0.8807\n",
      "✓ Best model saved! (F1: 0.8807)\n",
      "\n",
      "Epoch [4/5]\n"
     ]
    },
    {
     "name": "stderr",
     "output_type": "stream",
     "text": [
      "                                                             \r"
     ]
    },
    {
     "name": "stdout",
     "output_type": "stream",
     "text": [
      "Train Loss: 0.3397 | Train Acc: 0.8634\n",
      "Val Loss: 0.2568 | Val Acc: 0.8981 | Val F1: 0.8980\n",
      "✓ Best model saved! (F1: 0.8980)\n",
      "\n",
      "Epoch [5/5]\n"
     ]
    },
    {
     "name": "stderr",
     "output_type": "stream",
     "text": [
      "                                                             \r"
     ]
    },
    {
     "name": "stdout",
     "output_type": "stream",
     "text": [
      "Train Loss: 0.3158 | Train Acc: 0.8758\n",
      "Val Loss: 0.2595 | Val Acc: 0.8842 | Val F1: 0.8937\n",
      "\n",
      "============================================================\n",
      "TRAINING COMPLETED\n",
      "============================================================\n"
     ]
    },
    {
     "data": {
      "image/png": "[encoded data removed]",
      "text/plain": [
       "<Figure size 1500x500 with 2 Axes>"
      ]
     },
     "metadata": {},
     "output_type": "display_data"
    },
    {
     "name": "stderr",
     "output_type": "stream",
     "text": [
      "Generating Kaggle Predictions: 100%|██████████| 87/87 [00:45<00:00,  1.92it/s]"
     ]
    },
    {
     "name": "stdout",
     "output_type": "stream",
     "text": [
      "\n",
      "✓ Submission file generated: cnn_submission.csv\n",
      "Total predictions: 5540\n",
      "\n",
      "============================================================\n",
      "KEY FIXES APPLIED:\n",
      "============================================================\n",
      "1. Removed separate test split from training data\n",
      "2. Only using train/val split (80/20)\n",
      "3. Kaggle test set is completely separate - no leakage\n",
      "4. Model selection based only on validation set\n",
      "============================================================\n"
     ]
    },
    {
     "name": "stderr",
     "output_type": "stream",
     "text": [
      "\n"
     ]
    }
   ],
   "source": [
    "import os\n",
    "import random\n",
    "import pandas as pd\n",
    "import numpy as np\n",
    "import torch\n",
    "import torch.nn as nn\n",
    "import torch.optim as optim\n",
    "from PIL import Image\n",
    "from sklearn.model_selection import train_test_split\n",
    "from sklearn.metrics import (f1_score, accuracy_score, confusion_matrix, \n",
    "                             classification_report, precision_score, recall_score)\n",
    "from torch.optim.lr_scheduler import StepLR\n",
    "from torch.utils.data import DataLoader, Dataset\n",
    "from torchvision import transforms\n",
    "from tqdm import tqdm\n",
    "import matplotlib.pyplot as plt\n",
    "import seaborn as sns\n",
    "\n",
    "# ==================== SEED EVERYTHING ====================\n",
    "def seed_everything(seed):\n",
    "    random.seed(seed)\n",
    "    np.random.seed(seed)\n",
    "    torch.manual_seed(seed)\n",
    "    torch.cuda.manual_seed(seed)\n",
    "    torch.cuda.manual_seed_all(seed)\n",
    "    torch.backends.cudnn.deterministic = True\n",
    "    torch.backends.cudnn.benchmark = False\n",
    "\n",
    "# ==================== HYPERPARAMETERS ====================\n",
    "seed = 42\n",
    "batch_size = 64\n",
    "epochs = 5\n",
    "lr = 0.001\n",
    "dropout_rate = 0.5\n",
    "\n",
    "seed_everything(seed)\n",
    "device = 'cuda' if torch.cuda.is_available() else 'cpu'\n",
    "print(f\"Device used: {device}\")\n",
    "\n",
    "# ==================== DATA LOADING - FIXED ====================\n",
    "base_dir = '/kaggle/input/ai-vs-human-generated-dataset'\n",
    "train_csv_path = os.path.join(base_dir, 'train.csv')\n",
    "test_csv_path = os.path.join(base_dir, 'test.csv')\n",
    "\n",
    "df_train = pd.read_csv(train_csv_path)\n",
    "df_test = pd.read_csv(test_csv_path)\n",
    "\n",
    "df_test['id'] = df_test['id'].apply(lambda x: os.path.join(base_dir, x))\n",
    "df_train['file_name'] = df_train['file_name'].apply(lambda x: os.path.join(base_dir, x))\n",
    "\n",
    "all_image_paths = df_train['file_name'].values\n",
    "all_labels = df_train['label'].values\n",
    "\n",
    "# FIXED: Only split into train and validation\n",
    "# The Kaggle test set is completely separate - no data leakage\n",
    "train_paths, val_paths, train_labels, val_labels = train_test_split(\n",
    "    all_image_paths, all_labels, test_size=0.20, random_state=seed, stratify=all_labels\n",
    ")\n",
    "\n",
    "print(f\"Train Data: {len(train_paths)} (80%)\")\n",
    "print(f\"Validation Data: {len(val_paths)} (20%)\")\n",
    "print(f\"Kaggle Test Data: {len(df_test)} (completely separate)\")\n",
    "\n",
    "# ==================== DATA TRANSFORMS ====================\n",
    "train_transforms = transforms.Compose([\n",
    "    transforms.Resize((128, 128)),\n",
    "    transforms.RandomHorizontalFlip(),\n",
    "    transforms.RandomRotation(15),\n",
    "    transforms.ColorJitter(brightness=0.2, contrast=0.2),\n",
    "    transforms.ToTensor(),\n",
    "    transforms.Normalize(mean=[0.485, 0.456, 0.406], std=[0.229, 0.224, 0.225]),\n",
    "])\n",
    "\n",
    "val_test_transforms = transforms.Compose([\n",
    "    transforms.Resize((128, 128)),\n",
    "    transforms.ToTensor(),\n",
    "    transforms.Normalize(mean=[0.485, 0.456, 0.406], std=[0.229, 0.224, 0.225]),\n",
    "])\n",
    "\n",
    "# ==================== DATASET CLASS ====================\n",
    "class ImageDataset(Dataset):\n",
    "    def __init__(self, file_list, labels, transform=None):\n",
    "        self.file_list = file_list\n",
    "        self.labels = labels\n",
    "        self.transform = transform\n",
    "\n",
    "    def __len__(self):\n",
    "        return len(self.file_list)\n",
    "\n",
    "    def __getitem__(self, idx):\n",
    "        img_path = self.file_list[idx]\n",
    "        img = Image.open(img_path).convert(\"RGB\")\n",
    "        if self.transform:\n",
    "            img = self.transform(img)\n",
    "        label = self.labels[idx]\n",
    "        return img, label\n",
    "\n",
    "# ==================== CREATE DATALOADERS ====================\n",
    "train_data = ImageDataset(train_paths, train_labels, transform=train_transforms)\n",
    "val_data = ImageDataset(val_paths, val_labels, transform=val_test_transforms)\n",
    "\n",
    "train_loader = DataLoader(train_data, batch_size=batch_size, shuffle=True, num_workers=4)\n",
    "val_loader = DataLoader(val_data, batch_size=batch_size, shuffle=False, num_workers=4)\n",
    "\n",
    "# ==================== CNN MODEL ARCHITECTURE ====================\n",
    "class SimpleCNN(nn.Module):\n",
    "    \"\"\"\n",
    "    Custom CNN Architecture for Binary Image Classification\n",
    "    \n",
    "    Architecture:\n",
    "    - Conv1: 32 filters, 5x5 kernel, ReLU activation\n",
    "    - MaxPool1: 2x2\n",
    "    - Conv2: 64 filters, 3x3 kernel, ReLU activation\n",
    "    - MaxPool2: 2x2\n",
    "    - Conv3: 128 filters, 3x3 kernel, ReLU activation\n",
    "    - MaxPool3: 2x2\n",
    "    - Flatten\n",
    "    - FC1: 512 units, ReLU activation\n",
    "    - Dropout: 0.5\n",
    "    - Output: 2 units (binary classification), Softmax\n",
    "    \"\"\"\n",
    "    def __init__(self, num_classes=2, dropout_rate=0.5):\n",
    "        super(SimpleCNN, self).__init__()\n",
    "        \n",
    "        # Convolutional layers\n",
    "        self.conv1 = nn.Conv2d(in_channels=3, out_channels=32, kernel_size=5, padding=2)\n",
    "        self.bn1 = nn.BatchNorm2d(32)\n",
    "        self.relu1 = nn.ReLU()\n",
    "        self.pool1 = nn.MaxPool2d(kernel_size=2, stride=2)\n",
    "        \n",
    "        self.conv2 = nn.Conv2d(in_channels=32, out_channels=64, kernel_size=3, padding=1)\n",
    "        self.bn2 = nn.BatchNorm2d(64)\n",
    "        self.relu2 = nn.ReLU()\n",
    "        self.pool2 = nn.MaxPool2d(kernel_size=2, stride=2)\n",
    "        \n",
    "        self.conv3 = nn.Conv2d(in_channels=64, out_channels=128, kernel_size=3, padding=1)\n",
    "        self.bn3 = nn.BatchNorm2d(128)\n",
    "        self.relu3 = nn.ReLU()\n",
    "        self.pool3 = nn.MaxPool2d(kernel_size=2, stride=2)\n",
    "        \n",
    "        # Flatten and fully connected layers\n",
    "        self.flatten = nn.Flatten()\n",
    "        \n",
    "        # Calculate the size after convolutions and pooling\n",
    "        # Input: 128x128 -> Conv1+Pool1: 64x64 -> Conv2+Pool2: 32x32 -> Conv3+Pool3: 16x16\n",
    "        # 128 channels * 16 * 16 = 32768\n",
    "        self.fc1 = nn.Linear(128 * 16 * 16, 512)\n",
    "        self.relu4 = nn.ReLU()\n",
    "        self.dropout = nn.Dropout(p=dropout_rate)\n",
    "        self.fc2 = nn.Linear(512, num_classes)\n",
    "        \n",
    "    def forward(self, x):\n",
    "        # First conv block\n",
    "        x = self.conv1(x)\n",
    "        x = self.bn1(x)\n",
    "        x = self.relu1(x)\n",
    "        x = self.pool1(x)\n",
    "        \n",
    "        # Second conv block\n",
    "        x = self.conv2(x)\n",
    "        x = self.bn2(x)\n",
    "        x = self.relu2(x)\n",
    "        x = self.pool2(x)\n",
    "        \n",
    "        # Third conv block\n",
    "        x = self.conv3(x)\n",
    "        x = self.bn3(x)\n",
    "        x = self.relu3(x)\n",
    "        x = self.pool3(x)\n",
    "        \n",
    "        # Flatten and fully connected\n",
    "        x = self.flatten(x)\n",
    "        x = self.fc1(x)\n",
    "        x = self.relu4(x)\n",
    "        x = self.dropout(x)\n",
    "        x = self.fc2(x)\n",
    "        \n",
    "        return x\n",
    "\n",
    "# ==================== INITIALIZE MODEL ====================\n",
    "model = SimpleCNN(num_classes=2, dropout_rate=dropout_rate).to(device)\n",
    "print(model)\n",
    "print(f\"\\nTotal parameters: {sum(p.numel() for p in model.parameters()):,}\")\n",
    "\n",
    "# ==================== LOSS AND OPTIMIZER ====================\n",
    "criterion = nn.CrossEntropyLoss()\n",
    "optimizer = optim.Adam(model.parameters(), lr=lr)\n",
    "scheduler = StepLR(optimizer, step_size=5, gamma=0.5)\n",
    "\n",
    "print(f\"\\nUsing optimizer: Adam\")\n",
    "print(f\"Learning rate: {lr}\")\n",
    "print(f\"Dropout rate: {dropout_rate}\")\n",
    "\n",
    "# ==================== TRAINING FUNCTION ====================\n",
    "def train_epoch(model, train_loader, criterion, optimizer, device):\n",
    "    model.train()\n",
    "    epoch_loss = 0.0\n",
    "    epoch_accuracy = 0.0\n",
    "    \n",
    "    for data, label in tqdm(train_loader, desc=\"Training\", leave=False):\n",
    "        data, label = data.to(device), label.to(device)\n",
    "        \n",
    "        optimizer.zero_grad()\n",
    "        output = model(data)\n",
    "        loss = criterion(output, label)\n",
    "        loss.backward()\n",
    "        optimizer.step()\n",
    "        \n",
    "        epoch_loss += loss.item()\n",
    "        preds = output.argmax(dim=1)\n",
    "        epoch_accuracy += (preds == label).float().mean().item()\n",
    "    \n",
    "    epoch_loss /= len(train_loader)\n",
    "    epoch_accuracy /= len(train_loader)\n",
    "    \n",
    "    return epoch_loss, epoch_accuracy\n",
    "\n",
    "# ==================== VALIDATION FUNCTION ====================\n",
    "def validate_epoch(model, val_loader, criterion, device):\n",
    "    model.eval()\n",
    "    val_loss = 0.0\n",
    "    val_accuracy = 0.0\n",
    "    all_preds = []\n",
    "    all_labels = []\n",
    "    \n",
    "    with torch.no_grad():\n",
    "        for data, label in tqdm(val_loader, desc=\"Validation\", leave=False):\n",
    "            data, label = data.to(device), label.to(device)\n",
    "            output = model(data)\n",
    "            loss = criterion(output, label)\n",
    "            \n",
    "            val_loss += loss.item()\n",
    "            preds = output.argmax(dim=1)\n",
    "            val_accuracy += (preds == label).float().mean().item()\n",
    "            \n",
    "            all_preds.extend(preds.cpu().numpy())\n",
    "            all_labels.extend(label.cpu().numpy())\n",
    "    \n",
    "    val_loss /= len(val_loader)\n",
    "    val_accuracy /= len(val_loader)\n",
    "    val_f1 = f1_score(all_labels, all_preds)\n",
    "    \n",
    "    return val_loss, val_accuracy, val_f1\n",
    "\n",
    "# ==================== TRAINING LOOP ====================\n",
    "train_losses = []\n",
    "train_accuracies = []\n",
    "val_losses = []\n",
    "val_accuracies = []\n",
    "val_f1s = []\n",
    "\n",
    "best_val_f1 = 0.0\n",
    "best_model_path = \"best_cnn_model.pth\"\n",
    "\n",
    "print(\"\\n\" + \"=\"*60)\n",
    "print(\"TRAINING STARTED (Data Leakage Fixed)\")\n",
    "print(\"=\"*60)\n",
    "\n",
    "for epoch in range(epochs):\n",
    "    print(f\"\\nEpoch [{epoch+1}/{epochs}]\")\n",
    "    \n",
    "    # Train\n",
    "    train_loss, train_acc = train_epoch(model, train_loader, criterion, optimizer, device)\n",
    "    train_losses.append(train_loss)\n",
    "    train_accuracies.append(train_acc)\n",
    "    \n",
    "    # Validate\n",
    "    val_loss, val_acc, val_f1 = validate_epoch(model, val_loader, criterion, device)\n",
    "    val_losses.append(val_loss)\n",
    "    val_accuracies.append(val_acc)\n",
    "    val_f1s.append(val_f1)\n",
    "    \n",
    "    # Print metrics\n",
    "    print(f\"Train Loss: {train_loss:.4f} | Train Acc: {train_acc:.4f}\")\n",
    "    print(f\"Val Loss: {val_loss:.4f} | Val Acc: {val_acc:.4f} | Val F1: {val_f1:.4f}\")\n",
    "    \n",
    "    # Save best model\n",
    "    if val_f1 > best_val_f1:\n",
    "        best_val_f1 = val_f1\n",
    "        torch.save(model.state_dict(), best_model_path)\n",
    "        print(f\"✓ Best model saved! (F1: {val_f1:.4f})\")\n",
    "    \n",
    "    # Step scheduler\n",
    "    scheduler.step()\n",
    "\n",
    "print(\"\\n\" + \"=\"*60)\n",
    "print(\"TRAINING COMPLETED\")\n",
    "print(\"=\"*60)\n",
    "\n",
    "# ==================== PLOT TRAINING CURVES ====================\n",
    "fig, axes = plt.subplots(1, 2, figsize=(15, 5))\n",
    "\n",
    "# Loss plot\n",
    "axes[0].plot(range(1, epochs+1), train_losses, 'b-', label='Train Loss', marker='o')\n",
    "axes[0].plot(range(1, epochs+1), val_losses, 'r-', label='Validation Loss', marker='s')\n",
    "axes[0].set_xlabel('Epoch')\n",
    "axes[0].set_ylabel('Loss')\n",
    "axes[0].set_title('Training and Validation Loss')\n",
    "axes[0].legend()\n",
    "axes[0].grid(True)\n",
    "\n",
    "# Accuracy plot\n",
    "axes[1].plot(range(1, epochs+1), train_accuracies, 'b-', label='Train Accuracy', marker='o')\n",
    "axes[1].plot(range(1, epochs+1), val_accuracies, 'r-', label='Validation Accuracy', marker='s')\n",
    "axes[1].set_xlabel('Epoch')\n",
    "axes[1].set_ylabel('Accuracy')\n",
    "axes[1].set_title('Training and Validation Accuracy')\n",
    "axes[1].legend()\n",
    "axes[1].grid(True)\n",
    "\n",
    "plt.tight_layout()\n",
    "plt.savefig('training_curves.png', dpi=300, bbox_inches='tight')\n",
    "plt.show()\n",
    "\n",
    "# ==================== KAGGLE SUBMISSION ====================\n",
    "class TestDataset(Dataset):\n",
    "    def __init__(self, file_list, transform=None):\n",
    "        self.file_list = file_list\n",
    "        self.transform = transform\n",
    "\n",
    "    def __len__(self):\n",
    "        return len(self.file_list)\n",
    "\n",
    "    def __getitem__(self, idx):\n",
    "        img_path = self.file_list[idx]\n",
    "        img = Image.open(img_path).convert(\"RGB\")\n",
    "        if self.transform:\n",
    "            img = self.transform(img)\n",
    "        return img, os.path.basename(img_path)\n",
    "\n",
    "# Load best model for final predictions\n",
    "model.load_state_dict(torch.load(best_model_path))\n",
    "model.eval()\n",
    "\n",
    "kaggle_test_dataset = TestDataset(df_test['id'].values, transform=val_test_transforms)\n",
    "kaggle_test_loader = DataLoader(kaggle_test_dataset, batch_size=batch_size, \n",
    "                                shuffle=False, num_workers=4)\n",
    "\n",
    "predictions = []\n",
    "image_names = []\n",
    "\n",
    "with torch.no_grad():\n",
    "    for data, names in tqdm(kaggle_test_loader, desc=\"Generating Kaggle Predictions\"):\n",
    "        data = data.to(device)\n",
    "        outputs = model(data)\n",
    "        preds = outputs.argmax(dim=1)\n",
    "        predictions.extend(preds.cpu().numpy())\n",
    "        image_names.extend([f\"test_data_v2/{name}\" for name in names])\n",
    "\n",
    "submission_df = pd.DataFrame({\n",
    "    'id': image_names,\n",
    "    'label': predictions\n",
    "})\n",
    "\n",
    "submission_df.to_csv(\"cnn_submission.csv\", index=False)\n",
    "print(\"\\n✓ Submission file generated: cnn_submission.csv\")\n",
    "print(f\"Total predictions: {len(submission_df)}\")\n",
    "\n",
    "print(\"\\n\" + \"=\"*60)\n",
    "print(\"KEY FIXES APPLIED:\")\n",
    "print(\"=\"*60)\n",
    "print(\"1. Removed separate test split from training data\")\n",
    "print(\"2. Only using train/val split (80/20)\")\n",
    "print(\"3. Kaggle test set is completely separate - no leakage\")\n",
    "print(\"4. Model selection based only on validation set\")\n",
    "print(\"=\"*60)"
   ]
  }
 ],
 "metadata": {
  "kaggle": {
   "accelerator": "gpu",
   "dataSources": [
    {
     "datasetId": 6412205,
     "sourceId": 10550636,
     "sourceType": "datasetVersion"
    }
   ],
   "dockerImageVersionId": 31154,
   "isGpuEnabled": true,
   "isInternetEnabled": true,
   "language": "python",
   "sourceType": "notebook"
  },
  "kernelspec": {
   "display_name": "Python 3",
   "language": "python",
   "name": "python3"
  },
  "language_info": {
   "codemirror_mode": {
    "name": "ipython",
    "version": 3
   },
   "file_extension": ".py",
   "mimetype": "text/x-python",
   "name": "python",
   "nbconvert_exporter": "python",
   "pygments_lexer": "ipython3",
   "version": "3.11.13"
  },
  "papermill": {
   "default_parameters": {},
   "duration": 2077.805927,
   "end_time": "2025-10-29T06:37:37.876442",
   "environment_variables": {},
   "exception": null,
   "input_path": "__notebook__.ipynb",
   "output_path": "__notebook__.ipynb",
   "parameters": {},
   "start_time": "2025-10-29T06:03:00.070515",
   "version": "2.6.0"
  }
 },
 "nbformat": 4,
 "nbformat_minor": 5
}
