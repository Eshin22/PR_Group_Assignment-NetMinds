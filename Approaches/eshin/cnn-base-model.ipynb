{
 "cells": [
  {
   "cell_type": "markdown",
   "id": "b6d5df70",
   "metadata": {
    "papermill": {
     "duration": 0.005401,
     "end_time": "2025-10-28T16:23:31.940529",
     "exception": false,
     "start_time": "2025-10-28T16:23:31.935128",
     "status": "completed"
    },
    "tags": []
   },
   "source": [
    "# Import Liabaries"
   ]
  },
  {
   "cell_type": "code",
   "execution_count": 1,
   "id": "a6d26282",
   "metadata": {
    "execution": {
     "iopub.execute_input": "2025-10-28T16:23:31.950338Z",
     "iopub.status.busy": "2025-10-28T16:23:31.950077Z",
     "iopub.status.idle": "2025-10-28T16:23:43.406008Z",
     "shell.execute_reply": "2025-10-28T16:23:43.405350Z"
    },
    "papermill": {
     "duration": 11.462276,
     "end_time": "2025-10-28T16:23:43.407328",
     "exception": false,
     "start_time": "2025-10-28T16:23:31.945052",
     "status": "completed"
    },
    "tags": []
   },
   "outputs": [],
   "source": [
    "import os\n",
    "import random\n",
    "import pandas as pd\n",
    "import numpy as np\n",
    "import torch\n",
    "import torch.nn as nn\n",
    "import torch.optim as optim\n",
    "from PIL import Image\n",
    "from sklearn.model_selection import train_test_split\n",
    "from sklearn.metrics import (f1_score, accuracy_score, confusion_matrix, \n",
    "                             classification_report, precision_score, recall_score)\n",
    "from torch.optim.lr_scheduler import StepLR\n",
    "from torch.utils.data import DataLoader, Dataset\n",
    "from torchvision import transforms\n",
    "from tqdm import tqdm\n",
    "import matplotlib.pyplot as plt\n",
    "import seaborn as sns"
   ]
  },
  {
   "cell_type": "markdown",
   "id": "1c21b197",
   "metadata": {
    "papermill": {
     "duration": 0.004146,
     "end_time": "2025-10-28T16:23:43.416329",
     "exception": false,
     "start_time": "2025-10-28T16:23:43.412183",
     "status": "completed"
    },
    "tags": []
   },
   "source": [
    "# Seed Everything"
   ]
  },
  {
   "cell_type": "code",
   "execution_count": 2,
   "id": "05c58c2c",
   "metadata": {
    "execution": {
     "iopub.execute_input": "2025-10-28T16:23:43.428322Z",
     "iopub.status.busy": "2025-10-28T16:23:43.427569Z",
     "iopub.status.idle": "2025-10-28T16:23:43.431812Z",
     "shell.execute_reply": "2025-10-28T16:23:43.431079Z"
    },
    "papermill": {
     "duration": 0.012144,
     "end_time": "2025-10-28T16:23:43.433015",
     "exception": false,
     "start_time": "2025-10-28T16:23:43.420871",
     "status": "completed"
    },
    "tags": []
   },
   "outputs": [],
   "source": [
    "def seed_everything(seed):\n",
    "    random.seed(seed)\n",
    "    np.random.seed(seed)\n",
    "    torch.manual_seed(seed)\n",
    "    torch.cuda.manual_seed(seed)\n",
    "    torch.cuda.manual_seed_all(seed)\n",
    "    torch.backends.cudnn.deterministic = True\n",
    "    torch.backends.cudnn.benchmark = False\n"
   ]
  },
  {
   "cell_type": "markdown",
   "id": "527087b9",
   "metadata": {
    "papermill": {
     "duration": 0.004076,
     "end_time": "2025-10-28T16:23:43.441382",
     "exception": false,
     "start_time": "2025-10-28T16:23:43.437306",
     "status": "completed"
    },
    "tags": []
   },
   "source": [
    "# Hyperparameters "
   ]
  },
  {
   "cell_type": "code",
   "execution_count": 3,
   "id": "2dc5a672",
   "metadata": {
    "execution": {
     "iopub.execute_input": "2025-10-28T16:23:43.450958Z",
     "iopub.status.busy": "2025-10-28T16:23:43.450391Z",
     "iopub.status.idle": "2025-10-28T16:23:43.512029Z",
     "shell.execute_reply": "2025-10-28T16:23:43.511286Z"
    },
    "papermill": {
     "duration": 0.067651,
     "end_time": "2025-10-28T16:23:43.513256",
     "exception": false,
     "start_time": "2025-10-28T16:23:43.445605",
     "status": "completed"
    },
    "tags": []
   },
   "outputs": [
    {
     "name": "stdout",
     "output_type": "stream",
     "text": [
      "Device used: cuda\n"
     ]
    }
   ],
   "source": [
    "seed = 42\n",
    "batch_size = 64\n",
    "epochs = 5\n",
    "lr = 0.001\n",
    "dropout_rate = 0.5\n",
    "\n",
    "seed_everything(seed)\n",
    "device = 'cuda' if torch.cuda.is_available() else 'cpu'\n",
    "print(f\"Device used: {device}\")"
   ]
  },
  {
   "cell_type": "markdown",
   "id": "bccc5bcf",
   "metadata": {
    "papermill": {
     "duration": 0.004094,
     "end_time": "2025-10-28T16:23:43.521937",
     "exception": false,
     "start_time": "2025-10-28T16:23:43.517843",
     "status": "completed"
    },
    "tags": []
   },
   "source": [
    "# Data Loading"
   ]
  },
  {
   "cell_type": "code",
   "execution_count": 4,
   "id": "79930446",
   "metadata": {
    "execution": {
     "iopub.execute_input": "2025-10-28T16:23:43.531385Z",
     "iopub.status.busy": "2025-10-28T16:23:43.530921Z",
     "iopub.status.idle": "2025-10-28T16:23:43.875300Z",
     "shell.execute_reply": "2025-10-28T16:23:43.874334Z"
    },
    "papermill": {
     "duration": 0.350384,
     "end_time": "2025-10-28T16:23:43.876587",
     "exception": false,
     "start_time": "2025-10-28T16:23:43.526203",
     "status": "completed"
    },
    "tags": []
   },
   "outputs": [
    {
     "name": "stdout",
     "output_type": "stream",
     "text": [
      "Train Data: 55965\n",
      "Validation Data: 11992\n",
      "Test Data: 11993\n"
     ]
    }
   ],
   "source": [
    "base_dir = '/kaggle/input/ai-vs-human-generated-dataset'\n",
    "train_csv_path = os.path.join(base_dir, 'train.csv')\n",
    "test_csv_path = os.path.join(base_dir, 'test.csv')\n",
    "\n",
    "df_train = pd.read_csv(train_csv_path)\n",
    "df_test = pd.read_csv(test_csv_path)\n",
    "\n",
    "df_test['id'] = df_test['id'].apply(lambda x: os.path.join(base_dir, x))\n",
    "df_train['file_name'] = df_train['file_name'].apply(lambda x: os.path.join(base_dir, x))\n",
    "\n",
    "all_image_paths = df_train['file_name'].values\n",
    "all_labels = df_train['label'].values\n",
    "\n",
    "# Split: 70% train, 15% validation, 15% test\n",
    "train_paths, temp_paths, train_labels, temp_labels = train_test_split(\n",
    "    all_image_paths, all_labels, test_size=0.30, random_state=seed, stratify=all_labels\n",
    ")\n",
    "\n",
    "val_paths, test_paths, val_labels, test_labels = train_test_split(\n",
    "    temp_paths, temp_labels, test_size=0.50, random_state=seed, stratify=temp_labels\n",
    ")\n",
    "\n",
    "print(f\"Train Data: {len(train_paths)}\")\n",
    "print(f\"Validation Data: {len(val_paths)}\")\n",
    "print(f\"Test Data: {len(test_paths)}\")"
   ]
  },
  {
   "cell_type": "markdown",
   "id": "d3eab32f",
   "metadata": {
    "papermill": {
     "duration": 0.004283,
     "end_time": "2025-10-28T16:23:43.885520",
     "exception": false,
     "start_time": "2025-10-28T16:23:43.881237",
     "status": "completed"
    },
    "tags": []
   },
   "source": [
    "#  Data Transforms"
   ]
  },
  {
   "cell_type": "code",
   "execution_count": 5,
   "id": "e02b107b",
   "metadata": {
    "execution": {
     "iopub.execute_input": "2025-10-28T16:23:43.895058Z",
     "iopub.status.busy": "2025-10-28T16:23:43.894806Z",
     "iopub.status.idle": "2025-10-28T16:23:43.899406Z",
     "shell.execute_reply": "2025-10-28T16:23:43.898885Z"
    },
    "papermill": {
     "duration": 0.01059,
     "end_time": "2025-10-28T16:23:43.900349",
     "exception": false,
     "start_time": "2025-10-28T16:23:43.889759",
     "status": "completed"
    },
    "tags": []
   },
   "outputs": [],
   "source": [
    "train_transforms = transforms.Compose([\n",
    "    transforms.Resize((128, 128)),\n",
    "    transforms.RandomHorizontalFlip(),\n",
    "    transforms.RandomRotation(15),\n",
    "    transforms.ColorJitter(brightness=0.2, contrast=0.2),\n",
    "    transforms.ToTensor(),\n",
    "    transforms.Normalize(mean=[0.485, 0.456, 0.406], std=[0.229, 0.224, 0.225]),\n",
    "])\n",
    "\n",
    "val_test_transforms = transforms.Compose([\n",
    "    transforms.Resize((128, 128)),\n",
    "    transforms.ToTensor(),\n",
    "    transforms.Normalize(mean=[0.485, 0.456, 0.406], std=[0.229, 0.224, 0.225]),\n",
    "])\n"
   ]
  },
  {
   "cell_type": "markdown",
   "id": "a3adb11d",
   "metadata": {
    "papermill": {
     "duration": 0.004089,
     "end_time": "2025-10-28T16:23:43.908846",
     "exception": false,
     "start_time": "2025-10-28T16:23:43.904757",
     "status": "completed"
    },
    "tags": []
   },
   "source": [
    "# Data Sets"
   ]
  },
  {
   "cell_type": "code",
   "execution_count": 6,
   "id": "692da048",
   "metadata": {
    "execution": {
     "iopub.execute_input": "2025-10-28T16:23:43.918466Z",
     "iopub.status.busy": "2025-10-28T16:23:43.918265Z",
     "iopub.status.idle": "2025-10-28T16:23:43.922679Z",
     "shell.execute_reply": "2025-10-28T16:23:43.922080Z"
    },
    "papermill": {
     "duration": 0.010379,
     "end_time": "2025-10-28T16:23:43.923681",
     "exception": false,
     "start_time": "2025-10-28T16:23:43.913302",
     "status": "completed"
    },
    "tags": []
   },
   "outputs": [],
   "source": [
    "class ImageDataset(Dataset):\n",
    "    def __init__(self, file_list, labels, transform=None):\n",
    "        self.file_list = file_list\n",
    "        self.labels = labels\n",
    "        self.transform = transform\n",
    "\n",
    "    def __len__(self):\n",
    "        return len(self.file_list)\n",
    "\n",
    "    def __getitem__(self, idx):\n",
    "        img_path = self.file_list[idx]\n",
    "        img = Image.open(img_path).convert(\"RGB\")\n",
    "        if self.transform:\n",
    "            img = self.transform(img)\n",
    "        label = self.labels[idx]\n",
    "        return img, label"
   ]
  },
  {
   "cell_type": "markdown",
   "id": "ddb3bf19",
   "metadata": {
    "papermill": {
     "duration": 0.004369,
     "end_time": "2025-10-28T16:23:43.932349",
     "exception": false,
     "start_time": "2025-10-28T16:23:43.927980",
     "status": "completed"
    },
    "tags": []
   },
   "source": [
    "# Create DataLoader"
   ]
  },
  {
   "cell_type": "code",
   "execution_count": 7,
   "id": "5bf17747",
   "metadata": {
    "execution": {
     "iopub.execute_input": "2025-10-28T16:23:43.941406Z",
     "iopub.status.busy": "2025-10-28T16:23:43.941191Z",
     "iopub.status.idle": "2025-10-28T16:23:43.945532Z",
     "shell.execute_reply": "2025-10-28T16:23:43.945009Z"
    },
    "papermill": {
     "duration": 0.010033,
     "end_time": "2025-10-28T16:23:43.946552",
     "exception": false,
     "start_time": "2025-10-28T16:23:43.936519",
     "status": "completed"
    },
    "tags": []
   },
   "outputs": [],
   "source": [
    "train_data = ImageDataset(train_paths, train_labels, transform=train_transforms)\n",
    "val_data = ImageDataset(val_paths, val_labels, transform=val_test_transforms)\n",
    "test_data = ImageDataset(test_paths, test_labels, transform=val_test_transforms)\n",
    "\n",
    "train_loader = DataLoader(train_data, batch_size=batch_size, shuffle=True, num_workers=4)\n",
    "val_loader = DataLoader(val_data, batch_size=batch_size, shuffle=False, num_workers=4)\n",
    "test_loader = DataLoader(test_data, batch_size=batch_size, shuffle=False, num_workers=4)"
   ]
  },
  {
   "cell_type": "markdown",
   "id": "8c615b15",
   "metadata": {
    "papermill": {
     "duration": 0.004258,
     "end_time": "2025-10-28T16:23:43.955217",
     "exception": false,
     "start_time": "2025-10-28T16:23:43.950959",
     "status": "completed"
    },
    "tags": []
   },
   "source": [
    "# CNN MODEL ARCHITECTURE"
   ]
  },
  {
   "cell_type": "code",
   "execution_count": 8,
   "id": "efaedfbd",
   "metadata": {
    "execution": {
     "iopub.execute_input": "2025-10-28T16:23:43.964826Z",
     "iopub.status.busy": "2025-10-28T16:23:43.964605Z",
     "iopub.status.idle": "2025-10-28T16:23:43.972559Z",
     "shell.execute_reply": "2025-10-28T16:23:43.971912Z"
    },
    "papermill": {
     "duration": 0.014242,
     "end_time": "2025-10-28T16:23:43.973668",
     "exception": false,
     "start_time": "2025-10-28T16:23:43.959426",
     "status": "completed"
    },
    "tags": []
   },
   "outputs": [],
   "source": [
    "class SimpleCNN(nn.Module):\n",
    "    \"\"\"\n",
    "    Custom CNN Architecture for Binary Image Classification\n",
    "    \n",
    "    Architecture:\n",
    "    - Conv1: 32 filters, 5x5 kernel, ReLU activation\n",
    "    - MaxPool1: 2x2\n",
    "    - Conv2: 64 filters, 3x3 kernel, ReLU activation\n",
    "    - MaxPool2: 2x2\n",
    "    - Conv3: 128 filters, 3x3 kernel, ReLU activation\n",
    "    - MaxPool3: 2x2\n",
    "    - Flatten\n",
    "    - FC1: 512 units, ReLU activation\n",
    "    - Dropout: 0.5\n",
    "    - Output: 2 units (binary classification), Softmax\n",
    "    \"\"\"\n",
    "    def __init__(self, num_classes=2, dropout_rate=0.5):\n",
    "        super(SimpleCNN, self).__init__()\n",
    "        \n",
    "        # Convolutional layers\n",
    "        self.conv1 = nn.Conv2d(in_channels=3, out_channels=32, kernel_size=5, padding=2)\n",
    "        self.bn1 = nn.BatchNorm2d(32)\n",
    "        self.relu1 = nn.ReLU()\n",
    "        self.pool1 = nn.MaxPool2d(kernel_size=2, stride=2)\n",
    "        \n",
    "        self.conv2 = nn.Conv2d(in_channels=32, out_channels=64, kernel_size=3, padding=1)\n",
    "        self.bn2 = nn.BatchNorm2d(64)\n",
    "        self.relu2 = nn.ReLU()\n",
    "        self.pool2 = nn.MaxPool2d(kernel_size=2, stride=2)\n",
    "        \n",
    "        self.conv3 = nn.Conv2d(in_channels=64, out_channels=128, kernel_size=3, padding=1)\n",
    "        self.bn3 = nn.BatchNorm2d(128)\n",
    "        self.relu3 = nn.ReLU()\n",
    "        self.pool3 = nn.MaxPool2d(kernel_size=2, stride=2)\n",
    "        \n",
    "        # Flatten and fully connected layers\n",
    "        self.flatten = nn.Flatten()\n",
    "        \n",
    "        # Calculate the size after convolutions and pooling\n",
    "        # Input: 128x128 -> Conv1+Pool1: 64x64 -> Conv2+Pool2: 32x32 -> Conv3+Pool3: 16x16\n",
    "        # 128 channels * 16 * 16 = 32768\n",
    "        self.fc1 = nn.Linear(128 * 16 * 16, 512)\n",
    "        self.relu4 = nn.ReLU()\n",
    "        self.dropout = nn.Dropout(p=dropout_rate)\n",
    "        self.fc2 = nn.Linear(512, num_classes)\n",
    "        \n",
    "    def forward(self, x):\n",
    "        # First conv block\n",
    "        x = self.conv1(x)\n",
    "        x = self.bn1(x)\n",
    "        x = self.relu1(x)\n",
    "        x = self.pool1(x)\n",
    "        \n",
    "        # Second conv block\n",
    "        x = self.conv2(x)\n",
    "        x = self.bn2(x)\n",
    "        x = self.relu2(x)\n",
    "        x = self.pool2(x)\n",
    "        \n",
    "        # Third conv block\n",
    "        x = self.conv3(x)\n",
    "        x = self.bn3(x)\n",
    "        x = self.relu3(x)\n",
    "        x = self.pool3(x)\n",
    "        \n",
    "        # Flatten and fully connected\n",
    "        x = self.flatten(x)\n",
    "        x = self.fc1(x)\n",
    "        x = self.relu4(x)\n",
    "        x = self.dropout(x)\n",
    "        x = self.fc2(x)\n",
    "        \n",
    "        return x\n"
   ]
  },
  {
   "cell_type": "markdown",
   "id": "f710086a",
   "metadata": {
    "papermill": {
     "duration": 0.004087,
     "end_time": "2025-10-28T16:23:43.982156",
     "exception": false,
     "start_time": "2025-10-28T16:23:43.978069",
     "status": "completed"
    },
    "tags": []
   },
   "source": [
    "#  INITIALIZE MODEL "
   ]
  },
  {
   "cell_type": "code",
   "execution_count": 9,
   "id": "49358e3e",
   "metadata": {
    "execution": {
     "iopub.execute_input": "2025-10-28T16:23:43.991250Z",
     "iopub.status.busy": "2025-10-28T16:23:43.991059Z",
     "iopub.status.idle": "2025-10-28T16:23:44.308137Z",
     "shell.execute_reply": "2025-10-28T16:23:44.307153Z"
    },
    "papermill": {
     "duration": 0.322895,
     "end_time": "2025-10-28T16:23:44.309293",
     "exception": false,
     "start_time": "2025-10-28T16:23:43.986398",
     "status": "completed"
    },
    "tags": []
   },
   "outputs": [
    {
     "name": "stdout",
     "output_type": "stream",
     "text": [
      "SimpleCNN(\n",
      "  (conv1): Conv2d(3, 32, kernel_size=(5, 5), stride=(1, 1), padding=(2, 2))\n",
      "  (bn1): BatchNorm2d(32, eps=1e-05, momentum=0.1, affine=True, track_running_stats=True)\n",
      "  (relu1): ReLU()\n",
      "  (pool1): MaxPool2d(kernel_size=2, stride=2, padding=0, dilation=1, ceil_mode=False)\n",
      "  (conv2): Conv2d(32, 64, kernel_size=(3, 3), stride=(1, 1), padding=(1, 1))\n",
      "  (bn2): BatchNorm2d(64, eps=1e-05, momentum=0.1, affine=True, track_running_stats=True)\n",
      "  (relu2): ReLU()\n",
      "  (pool2): MaxPool2d(kernel_size=2, stride=2, padding=0, dilation=1, ceil_mode=False)\n",
      "  (conv3): Conv2d(64, 128, kernel_size=(3, 3), stride=(1, 1), padding=(1, 1))\n",
      "  (bn3): BatchNorm2d(128, eps=1e-05, momentum=0.1, affine=True, track_running_stats=True)\n",
      "  (relu3): ReLU()\n",
      "  (pool3): MaxPool2d(kernel_size=2, stride=2, padding=0, dilation=1, ceil_mode=False)\n",
      "  (flatten): Flatten(start_dim=1, end_dim=-1)\n",
      "  (fc1): Linear(in_features=32768, out_features=512, bias=True)\n",
      "  (relu4): ReLU()\n",
      "  (dropout): Dropout(p=0.5, inplace=False)\n",
      "  (fc2): Linear(in_features=512, out_features=2, bias=True)\n",
      ")\n",
      "\n",
      "Total parameters: 16,873,986\n"
     ]
    }
   ],
   "source": [
    "model = SimpleCNN(num_classes=2, dropout_rate=dropout_rate).to(device)\n",
    "print(model)\n",
    "print(f\"\\nTotal parameters: {sum(p.numel() for p in model.parameters()):,}\")\n"
   ]
  },
  {
   "cell_type": "markdown",
   "id": "2624162f",
   "metadata": {
    "papermill": {
     "duration": 0.004398,
     "end_time": "2025-10-28T16:23:44.318660",
     "exception": false,
     "start_time": "2025-10-28T16:23:44.314262",
     "status": "completed"
    },
    "tags": []
   },
   "source": [
    "# LOSS AND OPTIMIZER"
   ]
  },
  {
   "cell_type": "code",
   "execution_count": 10,
   "id": "f6212df6",
   "metadata": {
    "execution": {
     "iopub.execute_input": "2025-10-28T16:23:44.328672Z",
     "iopub.status.busy": "2025-10-28T16:23:44.328297Z",
     "iopub.status.idle": "2025-10-28T16:23:44.333996Z",
     "shell.execute_reply": "2025-10-28T16:23:44.333270Z"
    },
    "papermill": {
     "duration": 0.011884,
     "end_time": "2025-10-28T16:23:44.335127",
     "exception": false,
     "start_time": "2025-10-28T16:23:44.323243",
     "status": "completed"
    },
    "tags": []
   },
   "outputs": [
    {
     "name": "stdout",
     "output_type": "stream",
     "text": [
      "\n",
      "Using optimizer: Adam\n",
      "Learning rate: 0.001\n",
      "Dropout rate: 0.5\n"
     ]
    }
   ],
   "source": [
    "criterion = nn.CrossEntropyLoss()\n",
    "\n",
    "# We'll compare three optimizers:\n",
    "# 1. Adam (our main choice)\n",
    "optimizer_adam = optim.Adam(model.parameters(), lr=lr)\n",
    "\n",
    "# 2. SGD (for comparison)\n",
    "optimizer_sgd = optim.SGD(model.parameters(), lr=lr)\n",
    "\n",
    "# 3. SGD with Momentum (for comparison)\n",
    "optimizer_sgd_momentum = optim.SGD(model.parameters(), lr=lr, momentum=0.9)\n",
    "\n",
    "# Choose Adam as the primary optimizer\n",
    "optimizer = optimizer_adam\n",
    "scheduler = StepLR(optimizer, step_size=5, gamma=0.5)\n",
    "\n",
    "print(f\"\\nUsing optimizer: Adam\")\n",
    "print(f\"Learning rate: {lr}\")\n",
    "print(f\"Dropout rate: {dropout_rate}\")"
   ]
  },
  {
   "cell_type": "markdown",
   "id": "44b3c0d9",
   "metadata": {
    "papermill": {
     "duration": 0.00434,
     "end_time": "2025-10-28T16:23:44.343901",
     "exception": false,
     "start_time": "2025-10-28T16:23:44.339561",
     "status": "completed"
    },
    "tags": []
   },
   "source": [
    "# TRAINING FUNCTION "
   ]
  },
  {
   "cell_type": "code",
   "execution_count": 11,
   "id": "dcf7313c",
   "metadata": {
    "execution": {
     "iopub.execute_input": "2025-10-28T16:23:44.353521Z",
     "iopub.status.busy": "2025-10-28T16:23:44.353327Z",
     "iopub.status.idle": "2025-10-28T16:23:44.357940Z",
     "shell.execute_reply": "2025-10-28T16:23:44.357423Z"
    },
    "papermill": {
     "duration": 0.01071,
     "end_time": "2025-10-28T16:23:44.358893",
     "exception": false,
     "start_time": "2025-10-28T16:23:44.348183",
     "status": "completed"
    },
    "tags": []
   },
   "outputs": [],
   "source": [
    "def train_epoch(model, train_loader, criterion, optimizer, device):\n",
    "    model.train()\n",
    "    epoch_loss = 0.0\n",
    "    epoch_accuracy = 0.0\n",
    "    \n",
    "    for data, label in tqdm(train_loader, desc=\"Training\", leave=False):\n",
    "        data, label = data.to(device), label.to(device)\n",
    "        \n",
    "        optimizer.zero_grad()\n",
    "        output = model(data)\n",
    "        loss = criterion(output, label)\n",
    "        loss.backward()\n",
    "        optimizer.step()\n",
    "        \n",
    "        epoch_loss += loss.item()\n",
    "        preds = output.argmax(dim=1)\n",
    "        epoch_accuracy += (preds == label).float().mean().item()\n",
    "    \n",
    "    epoch_loss /= len(train_loader)\n",
    "    epoch_accuracy /= len(train_loader)\n",
    "    \n",
    "    return epoch_loss, epoch_accuracy"
   ]
  },
  {
   "cell_type": "markdown",
   "id": "4586b522",
   "metadata": {
    "papermill": {
     "duration": 0.004171,
     "end_time": "2025-10-28T16:23:44.367561",
     "exception": false,
     "start_time": "2025-10-28T16:23:44.363390",
     "status": "completed"
    },
    "tags": []
   },
   "source": [
    "# VALIDATION FUNCTION "
   ]
  },
  {
   "cell_type": "code",
   "execution_count": 12,
   "id": "c6ca811a",
   "metadata": {
    "execution": {
     "iopub.execute_input": "2025-10-28T16:23:44.377646Z",
     "iopub.status.busy": "2025-10-28T16:23:44.377202Z",
     "iopub.status.idle": "2025-10-28T16:23:44.382309Z",
     "shell.execute_reply": "2025-10-28T16:23:44.381731Z"
    },
    "papermill": {
     "duration": 0.010962,
     "end_time": "2025-10-28T16:23:44.383245",
     "exception": false,
     "start_time": "2025-10-28T16:23:44.372283",
     "status": "completed"
    },
    "tags": []
   },
   "outputs": [],
   "source": [
    "# ==================== VALIDATION FUNCTION ====================\n",
    "def validate_epoch(model, val_loader, criterion, device):\n",
    "    model.eval()\n",
    "    val_loss = 0.0\n",
    "    val_accuracy = 0.0\n",
    "    all_preds = []\n",
    "    all_labels = []\n",
    "    \n",
    "    with torch.no_grad():\n",
    "        for data, label in tqdm(val_loader, desc=\"Validation\", leave=False):\n",
    "            data, label = data.to(device), label.to(device)\n",
    "            output = model(data)\n",
    "            loss = criterion(output, label)\n",
    "            \n",
    "            val_loss += loss.item()\n",
    "            preds = output.argmax(dim=1)\n",
    "            val_accuracy += (preds == label).float().mean().item()\n",
    "            \n",
    "            all_preds.extend(preds.cpu().numpy())\n",
    "            all_labels.extend(label.cpu().numpy())\n",
    "    \n",
    "    val_loss /= len(val_loader)\n",
    "    val_accuracy /= len(val_loader)\n",
    "    val_f1 = f1_score(all_labels, all_preds)\n",
    "    \n",
    "    return val_loss, val_accuracy, val_f1"
   ]
  },
  {
   "cell_type": "markdown",
   "id": "80272d9c",
   "metadata": {
    "papermill": {
     "duration": 0.004452,
     "end_time": "2025-10-28T16:23:44.392089",
     "exception": false,
     "start_time": "2025-10-28T16:23:44.387637",
     "status": "completed"
    },
    "tags": []
   },
   "source": [
    "# TRAINING LOOP"
   ]
  },
  {
   "cell_type": "code",
   "execution_count": 13,
   "id": "38694717",
   "metadata": {
    "execution": {
     "iopub.execute_input": "2025-10-28T16:23:44.401569Z",
     "iopub.status.busy": "2025-10-28T16:23:44.401336Z",
     "iopub.status.idle": "2025-10-28T16:38:15.806708Z",
     "shell.execute_reply": "2025-10-28T16:38:15.805515Z"
    },
    "papermill": {
     "duration": 871.411447,
     "end_time": "2025-10-28T16:38:15.807873",
     "exception": false,
     "start_time": "2025-10-28T16:23:44.396426",
     "status": "completed"
    },
    "tags": []
   },
   "outputs": [
    {
     "name": "stdout",
     "output_type": "stream",
     "text": [
      "\n",
      "============================================================\n",
      "TRAINING STARTED\n",
      "============================================================\n",
      "\n",
      "Epoch [1/5]\n"
     ]
    },
    {
     "name": "stderr",
     "output_type": "stream",
     "text": [
      "                                                             \r"
     ]
    },
    {
     "name": "stdout",
     "output_type": "stream",
     "text": [
      "Train Loss: 0.5710 | Train Acc: 0.8030\n",
      "Val Loss: 0.3911 | Val Acc: 0.8118 | Val F1: 0.8347\n",
      "✓ Best model saved! (F1: 0.8347)\n",
      "\n",
      "Epoch [2/5]\n"
     ]
    },
    {
     "name": "stderr",
     "output_type": "stream",
     "text": [
      "                                                             \r"
     ]
    },
    {
     "name": "stdout",
     "output_type": "stream",
     "text": [
      "Train Loss: 0.4004 | Train Acc: 0.8306\n",
      "Val Loss: 0.3579 | Val Acc: 0.8421 | Val F1: 0.8574\n",
      "✓ Best model saved! (F1: 0.8574)\n",
      "\n",
      "Epoch [3/5]\n"
     ]
    },
    {
     "name": "stderr",
     "output_type": "stream",
     "text": [
      "                                                             \r"
     ]
    },
    {
     "name": "stdout",
     "output_type": "stream",
     "text": [
      "Train Loss: 0.3679 | Train Acc: 0.8477\n",
      "Val Loss: 0.3039 | Val Acc: 0.8778 | Val F1: 0.8808\n",
      "✓ Best model saved! (F1: 0.8808)\n",
      "\n",
      "Epoch [4/5]\n"
     ]
    },
    {
     "name": "stderr",
     "output_type": "stream",
     "text": [
      "                                                             \r"
     ]
    },
    {
     "name": "stdout",
     "output_type": "stream",
     "text": [
      "Train Loss: 0.3402 | Train Acc: 0.8623\n",
      "Val Loss: 0.2657 | Val Acc: 0.8930 | Val F1: 0.8957\n",
      "✓ Best model saved! (F1: 0.8957)\n",
      "\n",
      "Epoch [5/5]\n"
     ]
    },
    {
     "name": "stderr",
     "output_type": "stream",
     "text": [
      "                                                             "
     ]
    },
    {
     "name": "stdout",
     "output_type": "stream",
     "text": [
      "Train Loss: 0.3189 | Train Acc: 0.8729\n",
      "Val Loss: 0.2950 | Val Acc: 0.8676 | Val F1: 0.8795\n",
      "\n",
      "============================================================\n",
      "TRAINING COMPLETED\n",
      "============================================================\n"
     ]
    },
    {
     "name": "stderr",
     "output_type": "stream",
     "text": [
      "\r"
     ]
    }
   ],
   "source": [
    "\n",
    "train_losses = []\n",
    "train_accuracies = []\n",
    "val_losses = []\n",
    "val_accuracies = []\n",
    "val_f1s = []\n",
    "\n",
    "best_val_f1 = 0.0\n",
    "best_model_path = \"best_cnn_model.pth\"\n",
    "\n",
    "print(\"\\n\" + \"=\"*60)\n",
    "print(\"TRAINING STARTED\")\n",
    "print(\"=\"*60)\n",
    "\n",
    "for epoch in range(epochs):\n",
    "    print(f\"\\nEpoch [{epoch+1}/{epochs}]\")\n",
    "    \n",
    "    # Train\n",
    "    train_loss, train_acc = train_epoch(model, train_loader, criterion, optimizer, device)\n",
    "    train_losses.append(train_loss)\n",
    "    train_accuracies.append(train_acc)\n",
    "    \n",
    "    # Validate\n",
    "    val_loss, val_acc, val_f1 = validate_epoch(model, val_loader, criterion, device)\n",
    "    val_losses.append(val_loss)\n",
    "    val_accuracies.append(val_acc)\n",
    "    val_f1s.append(val_f1)\n",
    "    \n",
    "    # Print metrics\n",
    "    print(f\"Train Loss: {train_loss:.4f} | Train Acc: {train_acc:.4f}\")\n",
    "    print(f\"Val Loss: {val_loss:.4f} | Val Acc: {val_acc:.4f} | Val F1: {val_f1:.4f}\")\n",
    "    \n",
    "    # Save best model\n",
    "    if val_f1 > best_val_f1:\n",
    "        best_val_f1 = val_f1\n",
    "        torch.save(model.state_dict(), best_model_path)\n",
    "        print(f\"✓ Best model saved! (F1: {val_f1:.4f})\")\n",
    "    \n",
    "    # Step scheduler\n",
    "    scheduler.step()\n",
    "\n",
    "print(\"\\n\" + \"=\"*60)\n",
    "print(\"TRAINING COMPLETED\")\n",
    "print(\"=\"*60)\n"
   ]
  },
  {
   "cell_type": "markdown",
   "id": "5e34ae0d",
   "metadata": {
    "papermill": {
     "duration": 0.08721,
     "end_time": "2025-10-28T16:38:15.984332",
     "exception": false,
     "start_time": "2025-10-28T16:38:15.897122",
     "status": "completed"
    },
    "tags": []
   },
   "source": [
    "# PLOT TRAINING CURVES"
   ]
  },
  {
   "cell_type": "code",
   "execution_count": 14,
   "id": "cff7c067",
   "metadata": {
    "execution": {
     "iopub.execute_input": "2025-10-28T16:38:16.166362Z",
     "iopub.status.busy": "2025-10-28T16:38:16.166094Z",
     "iopub.status.idle": "2025-10-28T16:38:54.506660Z",
     "shell.execute_reply": "2025-10-28T16:38:54.505521Z"
    },
    "papermill": {
     "duration": 38.43435,
     "end_time": "2025-10-28T16:38:54.508003",
     "exception": false,
     "start_time": "2025-10-28T16:38:16.073653",
     "status": "completed"
    },
    "tags": []
   },
   "outputs": [
    {
     "data": {
      "image/png": "[encoded data removed]",
      "text/plain": [
       "<Figure size 1500x500 with 2 Axes>"
      ]
     },
     "metadata": {},
     "output_type": "display_data"
    },
    {
     "name": "stdout",
     "output_type": "stream",
     "text": [
      "\n",
      "============================================================\n",
      "EVALUATING ON TEST SET\n",
      "============================================================\n"
     ]
    },
    {
     "name": "stderr",
     "output_type": "stream",
     "text": [
      "Testing: 100%|██████████| 188/188 [00:36<00:00,  5.08it/s]\n"
     ]
    }
   ],
   "source": [
    "\n",
    "fig, axes = plt.subplots(1, 2, figsize=(15, 5))\n",
    "\n",
    "# Loss plot\n",
    "axes[0].plot(range(1, epochs+1), train_losses, 'b-', label='Train Loss', marker='o')\n",
    "axes[0].plot(range(1, epochs+1), val_losses, 'r-', label='Validation Loss', marker='s')\n",
    "axes[0].set_xlabel('Epoch')\n",
    "axes[0].set_ylabel('Loss')\n",
    "axes[0].set_title('Training and Validation Loss')\n",
    "axes[0].legend()\n",
    "axes[0].grid(True)\n",
    "\n",
    "# Accuracy plot\n",
    "axes[1].plot(range(1, epochs+1), train_accuracies, 'b-', label='Train Accuracy', marker='o')\n",
    "axes[1].plot(range(1, epochs+1), val_accuracies, 'r-', label='Validation Accuracy', marker='s')\n",
    "axes[1].set_xlabel('Epoch')\n",
    "axes[1].set_ylabel('Accuracy')\n",
    "axes[1].set_title('Training and Validation Accuracy')\n",
    "axes[1].legend()\n",
    "axes[1].grid(True)\n",
    "\n",
    "plt.tight_layout()\n",
    "plt.savefig('training_curves.png', dpi=300, bbox_inches='tight')\n",
    "plt.show()\n",
    "\n",
    "# ==================== EVALUATE ON TEST SET ====================\n",
    "print(\"\\n\" + \"=\"*60)\n",
    "print(\"EVALUATING ON TEST SET\")\n",
    "print(\"=\"*60)\n",
    "\n",
    "# Load best model\n",
    "model.load_state_dict(torch.load(best_model_path))\n",
    "model.eval()\n",
    "\n",
    "all_preds = []\n",
    "all_labels = []\n",
    "\n",
    "with torch.no_grad():\n",
    "    for data, label in tqdm(test_loader, desc=\"Testing\"):\n",
    "        data, label = data.to(device), label.to(device)\n",
    "        output = model(data)\n",
    "        preds = output.argmax(dim=1)\n",
    "        all_preds.extend(preds.cpu().numpy())\n",
    "        all_labels.extend(label.cpu().numpy())\n"
   ]
  },
  {
   "cell_type": "markdown",
   "id": "d8d9690e",
   "metadata": {
    "papermill": {
     "duration": 0.089969,
     "end_time": "2025-10-28T16:38:54.690734",
     "exception": false,
     "start_time": "2025-10-28T16:38:54.600765",
     "status": "completed"
    },
    "tags": []
   },
   "source": [
    " # EVALUATE ON TEST SET"
   ]
  },
  {
   "cell_type": "code",
   "execution_count": 15,
   "id": "1b40726a",
   "metadata": {
    "execution": {
     "iopub.execute_input": "2025-10-28T16:38:54.872305Z",
     "iopub.status.busy": "2025-10-28T16:38:54.871997Z",
     "iopub.status.idle": "2025-10-28T16:39:19.709846Z",
     "shell.execute_reply": "2025-10-28T16:39:19.708954Z"
    },
    "papermill": {
     "duration": 24.930584,
     "end_time": "2025-10-28T16:39:19.711213",
     "exception": false,
     "start_time": "2025-10-28T16:38:54.780629",
     "status": "completed"
    },
    "tags": []
   },
   "outputs": [
    {
     "name": "stdout",
     "output_type": "stream",
     "text": [
      "\n",
      "============================================================\n",
      "EVALUATING ON TEST SET\n",
      "============================================================\n"
     ]
    },
    {
     "name": "stderr",
     "output_type": "stream",
     "text": [
      "Testing: 100%|██████████| 188/188 [00:24<00:00,  7.74it/s]\n"
     ]
    },
    {
     "name": "stdout",
     "output_type": "stream",
     "text": [
      "\n",
      "Test Accuracy: 0.8910\n",
      "Test F1 Score: 0.8941\n",
      "Test Precision: 0.8694\n",
      "Test Recall: 0.9203\n",
      "\n",
      "Classification Report:\n",
      "              precision    recall  f1-score   support\n",
      "\n",
      "       Human       0.92      0.86      0.89      5997\n",
      "          AI       0.87      0.92      0.89      5996\n",
      "\n",
      "    accuracy                           0.89     11993\n",
      "   macro avg       0.89      0.89      0.89     11993\n",
      "weighted avg       0.89      0.89      0.89     11993\n",
      "\n"
     ]
    },
    {
     "data": {
      "image/png": "[encoded data removed]",
      "text/plain": [
       "<Figure size 800x600 with 2 Axes>"
      ]
     },
     "metadata": {},
     "output_type": "display_data"
    },
    {
     "name": "stdout",
     "output_type": "stream",
     "text": [
      "\n",
      "============================================================\n",
      "EVALUATION COMPLETED\n",
      "============================================================\n"
     ]
    }
   ],
   "source": [
    "print(\"\\n\" + \"=\"*60)\n",
    "print(\"EVALUATING ON TEST SET\")\n",
    "print(\"=\"*60)\n",
    "\n",
    "# Load best model\n",
    "model.load_state_dict(torch.load(best_model_path))\n",
    "model.eval()\n",
    "\n",
    "all_preds = []\n",
    "all_labels = []\n",
    "\n",
    "with torch.no_grad():\n",
    "    for data, label in tqdm(test_loader, desc=\"Testing\"):\n",
    "        data, label = data.to(device), label.to(device)\n",
    "        output = model(data)\n",
    "        preds = output.argmax(dim=1)\n",
    "        all_preds.extend(preds.cpu().numpy())\n",
    "        all_labels.extend(label.cpu().numpy())\n",
    "\n",
    "# Calculate metrics\n",
    "test_accuracy = accuracy_score(all_labels, all_preds)\n",
    "test_f1 = f1_score(all_labels, all_preds)\n",
    "test_precision = precision_score(all_labels, all_preds)\n",
    "test_recall = recall_score(all_labels, all_preds)\n",
    "conf_matrix = confusion_matrix(all_labels, all_preds)\n",
    "\n",
    "print(f\"\\nTest Accuracy: {test_accuracy:.4f}\")\n",
    "print(f\"Test F1 Score: {test_f1:.4f}\")\n",
    "print(f\"Test Precision: {test_precision:.4f}\")\n",
    "print(f\"Test Recall: {test_recall:.4f}\")\n",
    "\n",
    "# Classification report\n",
    "print(\"\\nClassification Report:\")\n",
    "print(classification_report(all_labels, all_preds, target_names=['Human', 'AI']))\n",
    "\n",
    "# Plot confusion matrix\n",
    "plt.figure(figsize=(8, 6))\n",
    "sns.heatmap(conf_matrix, annot=True, fmt='d', cmap='Blues', \n",
    "            xticklabels=['Human', 'AI'], yticklabels=['Human', 'AI'])\n",
    "plt.title('Confusion Matrix')\n",
    "plt.ylabel('True Label')\n",
    "plt.xlabel('Predicted Label')\n",
    "plt.savefig('confusion_matrix.png', dpi=300, bbox_inches='tight')\n",
    "plt.show()\n",
    "\n",
    "print(\"\\n\" + \"=\"*60)\n",
    "print(\"EVALUATION COMPLETED\")\n",
    "print(\"=\"*60)"
   ]
  },
  {
   "cell_type": "markdown",
   "id": "fc45cffb",
   "metadata": {
    "papermill": {
     "duration": 0.092296,
     "end_time": "2025-10-28T16:39:19.897229",
     "exception": false,
     "start_time": "2025-10-28T16:39:19.804933",
     "status": "completed"
    },
    "tags": []
   },
   "source": [
    "# SUBMISSION"
   ]
  },
  {
   "cell_type": "code",
   "execution_count": 16,
   "id": "9409b5c7",
   "metadata": {
    "execution": {
     "iopub.execute_input": "2025-10-28T16:39:20.082715Z",
     "iopub.status.busy": "2025-10-28T16:39:20.082329Z",
     "iopub.status.idle": "2025-10-28T16:40:18.779668Z",
     "shell.execute_reply": "2025-10-28T16:40:18.778613Z"
    },
    "papermill": {
     "duration": 58.791877,
     "end_time": "2025-10-28T16:40:18.780896",
     "exception": false,
     "start_time": "2025-10-28T16:39:19.989019",
     "status": "completed"
    },
    "tags": []
   },
   "outputs": [
    {
     "name": "stderr",
     "output_type": "stream",
     "text": [
      "Generating Kaggle Predictions: 100%|██████████| 87/87 [00:58<00:00,  1.48it/s]"
     ]
    },
    {
     "name": "stdout",
     "output_type": "stream",
     "text": [
      "\n",
      "✓ Submission file generated: cnn_submission.csv\n",
      "Total predictions: 5540\n"
     ]
    },
    {
     "name": "stderr",
     "output_type": "stream",
     "text": [
      "\n"
     ]
    }
   ],
   "source": [
    "class TestDataset(Dataset):\n",
    "    def __init__(self, file_list, transform=None):\n",
    "        self.file_list = file_list\n",
    "        self.transform = transform\n",
    "\n",
    "    def __len__(self):\n",
    "        return len(self.file_list)\n",
    "\n",
    "    def __getitem__(self, idx):\n",
    "        img_path = self.file_list[idx]\n",
    "        img = Image.open(img_path).convert(\"RGB\")\n",
    "        if self.transform:\n",
    "            img = self.transform(img)\n",
    "        return img, os.path.basename(img_path)\n",
    "\n",
    "kaggle_test_dataset = TestDataset(df_test['id'].values, transform=val_test_transforms)\n",
    "kaggle_test_loader = DataLoader(kaggle_test_dataset, batch_size=batch_size, \n",
    "                                shuffle=False, num_workers=4)\n",
    "\n",
    "predictions = []\n",
    "image_names = []\n",
    "\n",
    "model.eval()\n",
    "with torch.no_grad():\n",
    "    for data, names in tqdm(kaggle_test_loader, desc=\"Generating Kaggle Predictions\"):\n",
    "        data = data.to(device)\n",
    "        outputs = model(data)\n",
    "        preds = outputs.argmax(dim=1)\n",
    "        predictions.extend(preds.cpu().numpy())\n",
    "        image_names.extend([f\"test_data_v2/{name}\" for name in names])\n",
    "\n",
    "submission_df = pd.DataFrame({\n",
    "    'id': image_names,\n",
    "    'label': predictions\n",
    "})\n",
    "\n",
    "submission_df.to_csv(\"cnn_submission.csv\", index=False)\n",
    "print(\"\\n✓ Submission file generated: cnn_submission.csv\")\n",
    "print(f\"Total predictions: {len(submission_df)}\")"
   ]
  },
  {
   "cell_type": "code",
   "execution_count": 17,
   "id": "758d8d19",
   "metadata": {
    "execution": {
     "iopub.execute_input": "2025-10-28T16:40:18.977924Z",
     "iopub.status.busy": "2025-10-28T16:40:18.977598Z",
     "iopub.status.idle": "2025-10-28T16:40:18.988078Z",
     "shell.execute_reply": "2025-10-28T16:40:18.987492Z"
    },
    "papermill": {
     "duration": 0.10906,
     "end_time": "2025-10-28T16:40:18.989144",
     "exception": false,
     "start_time": "2025-10-28T16:40:18.880084",
     "status": "completed"
    },
    "tags": []
   },
   "outputs": [],
   "source": [
    "# import os\n",
    "# import random\n",
    "# import pandas as pd\n",
    "# import numpy as np\n",
    "# import torch\n",
    "# import torch.nn as nn\n",
    "# import torch.optim as optim\n",
    "# from PIL import Image\n",
    "# from sklearn.model_selection import train_test_split\n",
    "# from sklearn.metrics import (f1_score, accuracy_score, confusion_matrix, \n",
    "#                              classification_report, precision_score, recall_score)\n",
    "# from torch.optim.lr_scheduler import StepLR\n",
    "# from torch.utils.data import DataLoader, Dataset\n",
    "# from torchvision import transforms\n",
    "# from tqdm import tqdm\n",
    "# import matplotlib.pyplot as plt\n",
    "# import seaborn as sns\n",
    "\n",
    "# # ==================== SEED EVERYTHING ====================\n",
    "# def seed_everything(seed):\n",
    "#     random.seed(seed)\n",
    "#     np.random.seed(seed)\n",
    "#     torch.manual_seed(seed)\n",
    "#     torch.cuda.manual_seed(seed)\n",
    "#     torch.cuda.manual_seed_all(seed)\n",
    "#     torch.backends.cudnn.deterministic = True\n",
    "#     torch.backends.cudnn.benchmark = False\n",
    "\n",
    "# # ==================== HYPERPARAMETERS ====================\n",
    "# seed = 42\n",
    "# batch_size = 64\n",
    "# epochs = 5\n",
    "# lr = 0.001\n",
    "# dropout_rate = 0.5\n",
    "\n",
    "# seed_everything(seed)\n",
    "# device = 'cuda' if torch.cuda.is_available() else 'cpu'\n",
    "# print(f\"Device used: {device}\")\n",
    "\n",
    "# # ==================== DATA LOADING ====================\n",
    "# base_dir = '/kaggle/input/ai-vs-human-generated-dataset'\n",
    "# train_csv_path = os.path.join(base_dir, 'train.csv')\n",
    "# test_csv_path = os.path.join(base_dir, 'test.csv')\n",
    "\n",
    "# df_train = pd.read_csv(train_csv_path)\n",
    "# df_test = pd.read_csv(test_csv_path)\n",
    "\n",
    "# df_test['id'] = df_test['id'].apply(lambda x: os.path.join(base_dir, x))\n",
    "# df_train['file_name'] = df_train['file_name'].apply(lambda x: os.path.join(base_dir, x))\n",
    "\n",
    "# all_image_paths = df_train['file_name'].values\n",
    "# all_labels = df_train['label'].values\n",
    "\n",
    "# # Split: 70% train, 15% validation, 15% test\n",
    "# train_paths, temp_paths, train_labels, temp_labels = train_test_split(\n",
    "#     all_image_paths, all_labels, test_size=0.30, random_state=seed, stratify=all_labels\n",
    "# )\n",
    "\n",
    "# val_paths, test_paths, val_labels, test_labels = train_test_split(\n",
    "#     temp_paths, temp_labels, test_size=0.50, random_state=seed, stratify=temp_labels\n",
    "# )\n",
    "\n",
    "# print(f\"Train Data: {len(train_paths)}\")\n",
    "# print(f\"Validation Data: {len(val_paths)}\")\n",
    "# print(f\"Test Data: {len(test_paths)}\")\n",
    "\n",
    "# # ==================== DATA TRANSFORMS ====================\n",
    "# train_transforms = transforms.Compose([\n",
    "#     transforms.Resize((128, 128)),\n",
    "#     transforms.RandomHorizontalFlip(),\n",
    "#     transforms.RandomRotation(15),\n",
    "#     transforms.ColorJitter(brightness=0.2, contrast=0.2),\n",
    "#     transforms.ToTensor(),\n",
    "#     transforms.Normalize(mean=[0.485, 0.456, 0.406], std=[0.229, 0.224, 0.225]),\n",
    "# ])\n",
    "\n",
    "# val_test_transforms = transforms.Compose([\n",
    "#     transforms.Resize((128, 128)),\n",
    "#     transforms.ToTensor(),\n",
    "#     transforms.Normalize(mean=[0.485, 0.456, 0.406], std=[0.229, 0.224, 0.225]),\n",
    "# ])\n",
    "\n",
    "# # ==================== DATASET CLASS ====================\n",
    "# class ImageDataset(Dataset):\n",
    "#     def __init__(self, file_list, labels, transform=None):\n",
    "#         self.file_list = file_list\n",
    "#         self.labels = labels\n",
    "#         self.transform = transform\n",
    "\n",
    "#     def __len__(self):\n",
    "#         return len(self.file_list)\n",
    "\n",
    "#     def __getitem__(self, idx):\n",
    "#         img_path = self.file_list[idx]\n",
    "#         img = Image.open(img_path).convert(\"RGB\")\n",
    "#         if self.transform:\n",
    "#             img = self.transform(img)\n",
    "#         label = self.labels[idx]\n",
    "#         return img, label\n",
    "\n",
    "# # ==================== CREATE DATALOADERS ====================\n",
    "# train_data = ImageDataset(train_paths, train_labels, transform=train_transforms)\n",
    "# val_data = ImageDataset(val_paths, val_labels, transform=val_test_transforms)\n",
    "# test_data = ImageDataset(test_paths, test_labels, transform=val_test_transforms)\n",
    "\n",
    "# train_loader = DataLoader(train_data, batch_size=batch_size, shuffle=True, num_workers=4)\n",
    "# val_loader = DataLoader(val_data, batch_size=batch_size, shuffle=False, num_workers=4)\n",
    "# test_loader = DataLoader(test_data, batch_size=batch_size, shuffle=False, num_workers=4)\n",
    "\n",
    "# # ==================== CNN MODEL ARCHITECTURE ====================\n",
    "# class SimpleCNN(nn.Module):\n",
    "#     \"\"\"\n",
    "#     Custom CNN Architecture for Binary Image Classification\n",
    "    \n",
    "#     Architecture:\n",
    "#     - Conv1: 32 filters, 5x5 kernel, ReLU activation\n",
    "#     - MaxPool1: 2x2\n",
    "#     - Conv2: 64 filters, 3x3 kernel, ReLU activation\n",
    "#     - MaxPool2: 2x2\n",
    "#     - Conv3: 128 filters, 3x3 kernel, ReLU activation\n",
    "#     - MaxPool3: 2x2\n",
    "#     - Flatten\n",
    "#     - FC1: 512 units, ReLU activation\n",
    "#     - Dropout: 0.5\n",
    "#     - Output: 2 units (binary classification), Softmax\n",
    "#     \"\"\"\n",
    "#     def __init__(self, num_classes=2, dropout_rate=0.5):\n",
    "#         super(SimpleCNN, self).__init__()\n",
    "        \n",
    "#         # Convolutional layers\n",
    "#         self.conv1 = nn.Conv2d(in_channels=3, out_channels=32, kernel_size=5, padding=2)\n",
    "#         self.bn1 = nn.BatchNorm2d(32)\n",
    "#         self.relu1 = nn.ReLU()\n",
    "#         self.pool1 = nn.MaxPool2d(kernel_size=2, stride=2)\n",
    "        \n",
    "#         self.conv2 = nn.Conv2d(in_channels=32, out_channels=64, kernel_size=3, padding=1)\n",
    "#         self.bn2 = nn.BatchNorm2d(64)\n",
    "#         self.relu2 = nn.ReLU()\n",
    "#         self.pool2 = nn.MaxPool2d(kernel_size=2, stride=2)\n",
    "        \n",
    "#         self.conv3 = nn.Conv2d(in_channels=64, out_channels=128, kernel_size=3, padding=1)\n",
    "#         self.bn3 = nn.BatchNorm2d(128)\n",
    "#         self.relu3 = nn.ReLU()\n",
    "#         self.pool3 = nn.MaxPool2d(kernel_size=2, stride=2)\n",
    "        \n",
    "#         # Flatten and fully connected layers\n",
    "#         self.flatten = nn.Flatten()\n",
    "        \n",
    "#         # Calculate the size after convolutions and pooling\n",
    "#         # Input: 128x128 -> Conv1+Pool1: 64x64 -> Conv2+Pool2: 32x32 -> Conv3+Pool3: 16x16\n",
    "#         # 128 channels * 16 * 16 = 32768\n",
    "#         self.fc1 = nn.Linear(128 * 16 * 16, 512)\n",
    "#         self.relu4 = nn.ReLU()\n",
    "#         self.dropout = nn.Dropout(p=dropout_rate)\n",
    "#         self.fc2 = nn.Linear(512, num_classes)\n",
    "        \n",
    "#     def forward(self, x):\n",
    "#         # First conv block\n",
    "#         x = self.conv1(x)\n",
    "#         x = self.bn1(x)\n",
    "#         x = self.relu1(x)\n",
    "#         x = self.pool1(x)\n",
    "        \n",
    "#         # Second conv block\n",
    "#         x = self.conv2(x)\n",
    "#         x = self.bn2(x)\n",
    "#         x = self.relu2(x)\n",
    "#         x = self.pool2(x)\n",
    "        \n",
    "#         # Third conv block\n",
    "#         x = self.conv3(x)\n",
    "#         x = self.bn3(x)\n",
    "#         x = self.relu3(x)\n",
    "#         x = self.pool3(x)\n",
    "        \n",
    "#         # Flatten and fully connected\n",
    "#         x = self.flatten(x)\n",
    "#         x = self.fc1(x)\n",
    "#         x = self.relu4(x)\n",
    "#         x = self.dropout(x)\n",
    "#         x = self.fc2(x)\n",
    "        \n",
    "#         return x\n",
    "\n",
    "# # ==================== INITIALIZE MODEL ====================\n",
    "# model = SimpleCNN(num_classes=2, dropout_rate=dropout_rate).to(device)\n",
    "# print(model)\n",
    "# print(f\"\\nTotal parameters: {sum(p.numel() for p in model.parameters()):,}\")\n",
    "\n",
    "# # ==================== LOSS AND OPTIMIZER ====================\n",
    "# criterion = nn.CrossEntropyLoss()\n",
    "\n",
    "# # We'll compare three optimizers:\n",
    "# # 1. Adam (our main choice)\n",
    "# optimizer_adam = optim.Adam(model.parameters(), lr=lr)\n",
    "\n",
    "# # 2. SGD (for comparison)\n",
    "# optimizer_sgd = optim.SGD(model.parameters(), lr=lr)\n",
    "\n",
    "# # 3. SGD with Momentum (for comparison)\n",
    "# optimizer_sgd_momentum = optim.SGD(model.parameters(), lr=lr, momentum=0.9)\n",
    "\n",
    "# # Choose Adam as the primary optimizer\n",
    "# optimizer = optimizer_adam\n",
    "# scheduler = StepLR(optimizer, step_size=5, gamma=0.5)\n",
    "\n",
    "# print(f\"\\nUsing optimizer: Adam\")\n",
    "# print(f\"Learning rate: {lr}\")\n",
    "# print(f\"Dropout rate: {dropout_rate}\")\n",
    "\n",
    "# # ==================== TRAINING FUNCTION ====================\n",
    "# def train_epoch(model, train_loader, criterion, optimizer, device):\n",
    "#     model.train()\n",
    "#     epoch_loss = 0.0\n",
    "#     epoch_accuracy = 0.0\n",
    "    \n",
    "#     for data, label in tqdm(train_loader, desc=\"Training\", leave=False):\n",
    "#         data, label = data.to(device), label.to(device)\n",
    "        \n",
    "#         optimizer.zero_grad()\n",
    "#         output = model(data)\n",
    "#         loss = criterion(output, label)\n",
    "#         loss.backward()\n",
    "#         optimizer.step()\n",
    "        \n",
    "#         epoch_loss += loss.item()\n",
    "#         preds = output.argmax(dim=1)\n",
    "#         epoch_accuracy += (preds == label).float().mean().item()\n",
    "    \n",
    "#     epoch_loss /= len(train_loader)\n",
    "#     epoch_accuracy /= len(train_loader)\n",
    "    \n",
    "#     return epoch_loss, epoch_accuracy\n",
    "\n",
    "# # ==================== VALIDATION FUNCTION ====================\n",
    "# def validate_epoch(model, val_loader, criterion, device):\n",
    "#     model.eval()\n",
    "#     val_loss = 0.0\n",
    "#     val_accuracy = 0.0\n",
    "#     all_preds = []\n",
    "#     all_labels = []\n",
    "    \n",
    "#     with torch.no_grad():\n",
    "#         for data, label in tqdm(val_loader, desc=\"Validation\", leave=False):\n",
    "#             data, label = data.to(device), label.to(device)\n",
    "#             output = model(data)\n",
    "#             loss = criterion(output, label)\n",
    "            \n",
    "#             val_loss += loss.item()\n",
    "#             preds = output.argmax(dim=1)\n",
    "#             val_accuracy += (preds == label).float().mean().item()\n",
    "            \n",
    "#             all_preds.extend(preds.cpu().numpy())\n",
    "#             all_labels.extend(label.cpu().numpy())\n",
    "    \n",
    "#     val_loss /= len(val_loader)\n",
    "#     val_accuracy /= len(val_loader)\n",
    "#     val_f1 = f1_score(all_labels, all_preds)\n",
    "    \n",
    "#     return val_loss, val_accuracy, val_f1\n",
    "\n",
    "# # ==================== TRAINING LOOP ====================\n",
    "# train_losses = []\n",
    "# train_accuracies = []\n",
    "# val_losses = []\n",
    "# val_accuracies = []\n",
    "# val_f1s = []\n",
    "\n",
    "# best_val_f1 = 0.0\n",
    "# best_model_path = \"best_cnn_model.pth\"\n",
    "\n",
    "# print(\"\\n\" + \"=\"*60)\n",
    "# print(\"TRAINING STARTED\")\n",
    "# print(\"=\"*60)\n",
    "\n",
    "# for epoch in range(epochs):\n",
    "#     print(f\"\\nEpoch [{epoch+1}/{epochs}]\")\n",
    "    \n",
    "#     # Train\n",
    "#     train_loss, train_acc = train_epoch(model, train_loader, criterion, optimizer, device)\n",
    "#     train_losses.append(train_loss)\n",
    "#     train_accuracies.append(train_acc)\n",
    "    \n",
    "#     # Validate\n",
    "#     val_loss, val_acc, val_f1 = validate_epoch(model, val_loader, criterion, device)\n",
    "#     val_losses.append(val_loss)\n",
    "#     val_accuracies.append(val_acc)\n",
    "#     val_f1s.append(val_f1)\n",
    "    \n",
    "#     # Print metrics\n",
    "#     print(f\"Train Loss: {train_loss:.4f} | Train Acc: {train_acc:.4f}\")\n",
    "#     print(f\"Val Loss: {val_loss:.4f} | Val Acc: {val_acc:.4f} | Val F1: {val_f1:.4f}\")\n",
    "    \n",
    "#     # Save best model\n",
    "#     if val_f1 > best_val_f1:\n",
    "#         best_val_f1 = val_f1\n",
    "#         torch.save(model.state_dict(), best_model_path)\n",
    "#         print(f\"✓ Best model saved! (F1: {val_f1:.4f})\")\n",
    "    \n",
    "#     # Step scheduler\n",
    "#     scheduler.step()\n",
    "\n",
    "# print(\"\\n\" + \"=\"*60)\n",
    "# print(\"TRAINING COMPLETED\")\n",
    "# print(\"=\"*60)\n",
    "\n",
    "# # ==================== PLOT TRAINING CURVES ====================\n",
    "# fig, axes = plt.subplots(1, 2, figsize=(15, 5))\n",
    "\n",
    "# # Loss plot\n",
    "# axes[0].plot(range(1, epochs+1), train_losses, 'b-', label='Train Loss', marker='o')\n",
    "# axes[0].plot(range(1, epochs+1), val_losses, 'r-', label='Validation Loss', marker='s')\n",
    "# axes[0].set_xlabel('Epoch')\n",
    "# axes[0].set_ylabel('Loss')\n",
    "# axes[0].set_title('Training and Validation Loss')\n",
    "# axes[0].legend()\n",
    "# axes[0].grid(True)\n",
    "\n",
    "# # Accuracy plot\n",
    "# axes[1].plot(range(1, epochs+1), train_accuracies, 'b-', label='Train Accuracy', marker='o')\n",
    "# axes[1].plot(range(1, epochs+1), val_accuracies, 'r-', label='Validation Accuracy', marker='s')\n",
    "# axes[1].set_xlabel('Epoch')\n",
    "# axes[1].set_ylabel('Accuracy')\n",
    "# axes[1].set_title('Training and Validation Accuracy')\n",
    "# axes[1].legend()\n",
    "# axes[1].grid(True)\n",
    "\n",
    "# plt.tight_layout()\n",
    "# plt.savefig('training_curves.png', dpi=300, bbox_inches='tight')\n",
    "# plt.show()\n",
    "\n",
    "# # ==================== EVALUATE ON TEST SET ====================\n",
    "# print(\"\\n\" + \"=\"*60)\n",
    "# print(\"EVALUATING ON TEST SET\")\n",
    "# print(\"=\"*60)\n",
    "\n",
    "# # Load best model\n",
    "# model.load_state_dict(torch.load(best_model_path))\n",
    "# model.eval()\n",
    "\n",
    "# all_preds = []\n",
    "# all_labels = []\n",
    "\n",
    "# with torch.no_grad():\n",
    "#     for data, label in tqdm(test_loader, desc=\"Testing\"):\n",
    "#         data, label = data.to(device), label.to(device)\n",
    "#         output = model(data)\n",
    "#         preds = output.argmax(dim=1)\n",
    "#         all_preds.extend(preds.cpu().numpy())\n",
    "#         all_labels.extend(label.cpu().numpy())\n",
    "\n",
    "# # Calculate metrics\n",
    "# test_accuracy = accuracy_score(all_labels, all_preds)\n",
    "# test_f1 = f1_score(all_labels, all_preds)\n",
    "# test_precision = precision_score(all_labels, all_preds)\n",
    "# test_recall = recall_score(all_labels, all_preds)\n",
    "# conf_matrix = confusion_matrix(all_labels, all_preds)\n",
    "\n",
    "# print(f\"\\nTest Accuracy: {test_accuracy:.4f}\")\n",
    "# print(f\"Test F1 Score: {test_f1:.4f}\")\n",
    "# print(f\"Test Precision: {test_precision:.4f}\")\n",
    "# print(f\"Test Recall: {test_recall:.4f}\")\n",
    "\n",
    "# # Classification report\n",
    "# print(\"\\nClassification Report:\")\n",
    "# print(classification_report(all_labels, all_preds, target_names=['Human', 'AI']))\n",
    "\n",
    "# # Plot confusion matrix\n",
    "# plt.figure(figsize=(8, 6))\n",
    "# sns.heatmap(conf_matrix, annot=True, fmt='d', cmap='Blues', \n",
    "#             xticklabels=['Human', 'AI'], yticklabels=['Human', 'AI'])\n",
    "# plt.title('Confusion Matrix')\n",
    "# plt.ylabel('True Label')\n",
    "# plt.xlabel('Predicted Label')\n",
    "# plt.savefig('confusion_matrix.png', dpi=300, bbox_inches='tight')\n",
    "# plt.show()\n",
    "\n",
    "# print(\"\\n\" + \"=\"*60)\n",
    "# print(\"EVALUATION COMPLETED\")\n",
    "# print(\"=\"*60)\n",
    "\n",
    "# # ==================== KAGGLE SUBMISSION ====================\n",
    "# class TestDataset(Dataset):\n",
    "#     def __init__(self, file_list, transform=None):\n",
    "#         self.file_list = file_list\n",
    "#         self.transform = transform\n",
    "\n",
    "#     def __len__(self):\n",
    "#         return len(self.file_list)\n",
    "\n",
    "#     def __getitem__(self, idx):\n",
    "#         img_path = self.file_list[idx]\n",
    "#         img = Image.open(img_path).convert(\"RGB\")\n",
    "#         if self.transform:\n",
    "#             img = self.transform(img)\n",
    "#         return img, os.path.basename(img_path)\n",
    "\n",
    "# kaggle_test_dataset = TestDataset(df_test['id'].values, transform=val_test_transforms)\n",
    "# kaggle_test_loader = DataLoader(kaggle_test_dataset, batch_size=batch_size, \n",
    "#                                 shuffle=False, num_workers=4)\n",
    "\n",
    "# predictions = []\n",
    "# image_names = []\n",
    "\n",
    "# model.eval()\n",
    "# with torch.no_grad():\n",
    "#     for data, names in tqdm(kaggle_test_loader, desc=\"Generating Kaggle Predictions\"):\n",
    "#         data = data.to(device)\n",
    "#         outputs = model(data)\n",
    "#         preds = outputs.argmax(dim=1)\n",
    "#         predictions.extend(preds.cpu().numpy())\n",
    "#         image_names.extend([f\"test_data_v2/{name}\" for name in names])\n",
    "\n",
    "# submission_df = pd.DataFrame({\n",
    "#     'id': image_names,\n",
    "#     'label': predictions\n",
    "# })\n",
    "\n",
    "# submission_df.to_csv(\"cnn_submission.csv\", index=False)\n",
    "# print(\"\\n✓ Submission file generated: cnn_submission.csv\")\n",
    "# print(f\"Total predictions: {len(submission_df)}\")"
   ]
  }
 ],
 "metadata": {
  "kaggle": {
   "accelerator": "gpu",
   "dataSources": [
    {
     "datasetId": 6412205,
     "sourceId": 10550636,
     "sourceType": "datasetVersion"
    }
   ],
   "dockerImageVersionId": 31154,
   "isGpuEnabled": true,
   "isInternetEnabled": true,
   "language": "python",
   "sourceType": "notebook"
  },
  "kernelspec": {
   "display_name": "Python 3",
   "language": "python",
   "name": "python3"
  },
  "language_info": {
   "codemirror_mode": {
    "name": "ipython",
    "version": 3
   },
   "file_extension": ".py",
   "mimetype": "text/x-python",
   "name": "python",
   "nbconvert_exporter": "python",
   "pygments_lexer": "ipython3",
   "version": "3.11.13"
  },
  "papermill": {
   "default_parameters": {},
   "duration": 1012.604725,
   "end_time": "2025-10-28T16:40:21.005587",
   "environment_variables": {},
   "exception": null,
   "input_path": "__notebook__.ipynb",
   "output_path": "__notebook__.ipynb",
   "parameters": {},
   "start_time": "2025-10-28T16:23:28.400862",
   "version": "2.6.0"
  }
 },
 "nbformat": 4,
 "nbformat_minor": 5
}
